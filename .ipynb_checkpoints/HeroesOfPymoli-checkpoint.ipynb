{
 "cells": [
  {
   "cell_type": "markdown",
   "metadata": {},
   "source": [
    "### Heroes Of Pymoli Data Analysis\n",
    "* Of the 1163 active players, the vast majority are male (84%). There also exists, a smaller, but notable proportion of female players (14%).\n",
    "\n",
    "* Our peak age demographic falls between 20-24 (44.8%) with secondary groups falling between 15-19 (18.60%) and 25-29 (13.4%).  \n",
    "-----"
   ]
  },
  {
   "cell_type": "markdown",
   "metadata": {},
   "source": [
    "### Note\n",
    "* Instructions have been included for each segment. You do not have to follow them exactly, but they are included to help you think through the steps."
   ]
  },
  {
   "cell_type": "code",
   "execution_count": 49,
   "metadata": {},
   "outputs": [
    {
     "data": {
      "text/html": [
       "<div>\n",
       "<style scoped>\n",
       "    .dataframe tbody tr th:only-of-type {\n",
       "        vertical-align: middle;\n",
       "    }\n",
       "\n",
       "    .dataframe tbody tr th {\n",
       "        vertical-align: top;\n",
       "    }\n",
       "\n",
       "    .dataframe thead th {\n",
       "        text-align: right;\n",
       "    }\n",
       "</style>\n",
       "<table border=\"1\" class=\"dataframe\">\n",
       "  <thead>\n",
       "    <tr style=\"text-align: right;\">\n",
       "      <th></th>\n",
       "      <th>Purchase ID</th>\n",
       "      <th>SN</th>\n",
       "      <th>Age</th>\n",
       "      <th>Gender</th>\n",
       "      <th>Item ID</th>\n",
       "      <th>Item Name</th>\n",
       "      <th>Price</th>\n",
       "    </tr>\n",
       "  </thead>\n",
       "  <tbody>\n",
       "    <tr>\n",
       "      <th>0</th>\n",
       "      <td>0</td>\n",
       "      <td>Lisim78</td>\n",
       "      <td>20</td>\n",
       "      <td>Male</td>\n",
       "      <td>108</td>\n",
       "      <td>Extraction, Quickblade Of Trembling Hands</td>\n",
       "      <td>3.53</td>\n",
       "    </tr>\n",
       "    <tr>\n",
       "      <th>1</th>\n",
       "      <td>1</td>\n",
       "      <td>Lisovynya38</td>\n",
       "      <td>40</td>\n",
       "      <td>Male</td>\n",
       "      <td>143</td>\n",
       "      <td>Frenzied Scimitar</td>\n",
       "      <td>1.56</td>\n",
       "    </tr>\n",
       "    <tr>\n",
       "      <th>2</th>\n",
       "      <td>2</td>\n",
       "      <td>Ithergue48</td>\n",
       "      <td>24</td>\n",
       "      <td>Male</td>\n",
       "      <td>92</td>\n",
       "      <td>Final Critic</td>\n",
       "      <td>4.88</td>\n",
       "    </tr>\n",
       "    <tr>\n",
       "      <th>3</th>\n",
       "      <td>3</td>\n",
       "      <td>Chamassasya86</td>\n",
       "      <td>24</td>\n",
       "      <td>Male</td>\n",
       "      <td>100</td>\n",
       "      <td>Blindscythe</td>\n",
       "      <td>3.27</td>\n",
       "    </tr>\n",
       "    <tr>\n",
       "      <th>4</th>\n",
       "      <td>4</td>\n",
       "      <td>Iskosia90</td>\n",
       "      <td>23</td>\n",
       "      <td>Male</td>\n",
       "      <td>131</td>\n",
       "      <td>Fury</td>\n",
       "      <td>1.44</td>\n",
       "    </tr>\n",
       "  </tbody>\n",
       "</table>\n",
       "</div>"
      ],
      "text/plain": [
       "   Purchase ID             SN  Age Gender  Item ID  \\\n",
       "0            0        Lisim78   20   Male      108   \n",
       "1            1    Lisovynya38   40   Male      143   \n",
       "2            2     Ithergue48   24   Male       92   \n",
       "3            3  Chamassasya86   24   Male      100   \n",
       "4            4      Iskosia90   23   Male      131   \n",
       "\n",
       "                                   Item Name  Price  \n",
       "0  Extraction, Quickblade Of Trembling Hands   3.53  \n",
       "1                          Frenzied Scimitar   1.56  \n",
       "2                               Final Critic   4.88  \n",
       "3                                Blindscythe   3.27  \n",
       "4                                       Fury   1.44  "
      ]
     },
     "execution_count": 49,
     "metadata": {},
     "output_type": "execute_result"
    }
   ],
   "source": [
    "# Dependencies and Setup\n",
    "import pandas as pd\n",
    "import numpy as np\n",
    "\n",
    "# Raw data file\n",
    "file_to_load = \"Resources/purchase_data.csv\"\n",
    "\n",
    "# Read purchasing file and store into pandas data frame\n",
    "purchase_data = pd.read_csv(file_to_load)\n",
    "purchase_data.head()"
   ]
  },
  {
   "cell_type": "markdown",
   "metadata": {},
   "source": [
    "## Player Count"
   ]
  },
  {
   "cell_type": "markdown",
   "metadata": {},
   "source": [
    "* Display the total number of players\n"
   ]
  },
  {
   "cell_type": "code",
   "execution_count": 50,
   "metadata": {},
   "outputs": [
    {
     "data": {
      "text/html": [
       "<div>\n",
       "<style scoped>\n",
       "    .dataframe tbody tr th:only-of-type {\n",
       "        vertical-align: middle;\n",
       "    }\n",
       "\n",
       "    .dataframe tbody tr th {\n",
       "        vertical-align: top;\n",
       "    }\n",
       "\n",
       "    .dataframe thead th {\n",
       "        text-align: right;\n",
       "    }\n",
       "</style>\n",
       "<table border=\"1\" class=\"dataframe\">\n",
       "  <thead>\n",
       "    <tr style=\"text-align: right;\">\n",
       "      <th></th>\n",
       "      <th>Total Players</th>\n",
       "    </tr>\n",
       "  </thead>\n",
       "  <tbody>\n",
       "    <tr>\n",
       "      <th>0</th>\n",
       "      <td>576</td>\n",
       "    </tr>\n",
       "  </tbody>\n",
       "</table>\n",
       "</div>"
      ],
      "text/plain": [
       "   Total Players\n",
       "0            576"
      ]
     },
     "execution_count": 50,
     "metadata": {},
     "output_type": "execute_result"
    }
   ],
   "source": [
    "#count unique SNs to assess the number of active players\n",
    "user_count = purchase_data['SN'].nunique()\n",
    "players_count = pd.DataFrame({'Total Players': user_count}, index=[0])\n",
    "players_count\n"
   ]
  },
  {
   "cell_type": "markdown",
   "metadata": {},
   "source": [
    "## Purchasing Analysis (Total)"
   ]
  },
  {
   "cell_type": "markdown",
   "metadata": {},
   "source": [
    "* Run basic calculations to obtain number of unique items, average price, etc.\n",
    "\n",
    "\n",
    "* Create a summary data frame to hold the results\n",
    "\n",
    "\n",
    "* Optional: give the displayed data cleaner formatting\n",
    "\n",
    "\n",
    "* Display the summary data frame\n"
   ]
  },
  {
   "cell_type": "code",
   "execution_count": 51,
   "metadata": {
    "scrolled": true
   },
   "outputs": [
    {
     "data": {
      "text/html": [
       "<style  type=\"text/css\" >\n",
       "</style>  \n",
       "<table id=\"T_1c431e8c_847e_11e8_83a8_34f39af3d017\" > \n",
       "<thead>    <tr> \n",
       "        <th class=\"blank level0\" ></th> \n",
       "        <th class=\"col_heading level0 col0\" >Number of Unique Items</th> \n",
       "        <th class=\"col_heading level0 col1\" >Average Purchase Price</th> \n",
       "        <th class=\"col_heading level0 col2\" >Total Number of Purchases</th> \n",
       "        <th class=\"col_heading level0 col3\" >Total Revenue</th> \n",
       "    </tr></thead> \n",
       "<tbody>    <tr> \n",
       "        <th id=\"T_1c431e8c_847e_11e8_83a8_34f39af3d017level0_row0\" class=\"row_heading level0 row0\" >0</th> \n",
       "        <td id=\"T_1c431e8c_847e_11e8_83a8_34f39af3d017row0_col0\" class=\"data row0 col0\" >183</td> \n",
       "        <td id=\"T_1c431e8c_847e_11e8_83a8_34f39af3d017row0_col1\" class=\"data row0 col1\" >$3.05</td> \n",
       "        <td id=\"T_1c431e8c_847e_11e8_83a8_34f39af3d017row0_col2\" class=\"data row0 col2\" >780</td> \n",
       "        <td id=\"T_1c431e8c_847e_11e8_83a8_34f39af3d017row0_col3\" class=\"data row0 col3\" >$2,379.77</td> \n",
       "    </tr></tbody> \n",
       "</table> "
      ],
      "text/plain": [
       "<pandas.io.formats.style.Styler at 0x14dec113ba8>"
      ]
     },
     "execution_count": 51,
     "metadata": {},
     "output_type": "execute_result"
    }
   ],
   "source": [
    "#summarize top line information by assessing the related columns, store in DataFrame\n",
    "item_offer = purchase_data['Item ID'].nunique()\n",
    "average_price = purchase_data['Price'].mean()\n",
    "purchase_count = purchase_data['Purchase ID'].count()\n",
    "total_purchases = purchase_data['Price'].sum()\n",
    "\n",
    "#generate DataFrame with top line stats\n",
    "purchase_summary = pd.DataFrame({'Number of Unique Items': item_offer, \n",
    "                                 'Average Purchase Price': average_price,\n",
    "                                'Total Number of Purchases': purchase_count, \n",
    "                                 'Total Revenue': total_purchases}, index=[0], columns=['Number of Unique Items', \n",
    "                                                                                        'Average Purchase Price', \n",
    "                                                                                        'Total Number of Purchases', \n",
    "                                                                                        'Total Revenue'])\n",
    "#set formatting\n",
    "purchase_summary = purchase_summary.style.format({'Average Purchase Price': '${:,.2f}', 'Total Revenue': '${:,.2f}'})\n",
    "purchase_summary"
   ]
  },
  {
   "cell_type": "markdown",
   "metadata": {},
   "source": [
    "## Gender Demographics"
   ]
  },
  {
   "cell_type": "markdown",
   "metadata": {},
   "source": [
    "* Run basic calculations to obtain number of unique items, average price, etc.\n",
    "\n",
    "\n",
    "* Create a summary data frame to hold the results\n",
    "\n",
    "\n",
    "* Optional: give the displayed data cleaner formatting\n",
    "\n",
    "\n",
    "* Display the summary data frame\n"
   ]
  },
  {
   "cell_type": "code",
   "execution_count": 52,
   "metadata": {},
   "outputs": [
    {
     "data": {
      "text/html": [
       "<style  type=\"text/css\" >\n",
       "</style>  \n",
       "<table id=\"T_1d0ccae4_847e_11e8_be7d_34f39af3d017\" > \n",
       "<thead>    <tr> \n",
       "        <th class=\"blank level0\" ></th> \n",
       "        <th class=\"col_heading level0 col0\" >Player Count</th> \n",
       "        <th class=\"col_heading level0 col1\" >Percentage of Players</th> \n",
       "    </tr>    <tr> \n",
       "        <th class=\"index_name level0\" >Gender</th> \n",
       "        <th class=\"blank\" ></th> \n",
       "        <th class=\"blank\" ></th> \n",
       "    </tr></thead> \n",
       "<tbody>    <tr> \n",
       "        <th id=\"T_1d0ccae4_847e_11e8_be7d_34f39af3d017level0_row0\" class=\"row_heading level0 row0\" >Female</th> \n",
       "        <td id=\"T_1d0ccae4_847e_11e8_be7d_34f39af3d017row0_col0\" class=\"data row0 col0\" >81</td> \n",
       "        <td id=\"T_1d0ccae4_847e_11e8_be7d_34f39af3d017row0_col1\" class=\"data row0 col1\" >14.06%</td> \n",
       "    </tr>    <tr> \n",
       "        <th id=\"T_1d0ccae4_847e_11e8_be7d_34f39af3d017level0_row1\" class=\"row_heading level0 row1\" >Male</th> \n",
       "        <td id=\"T_1d0ccae4_847e_11e8_be7d_34f39af3d017row1_col0\" class=\"data row1 col0\" >484</td> \n",
       "        <td id=\"T_1d0ccae4_847e_11e8_be7d_34f39af3d017row1_col1\" class=\"data row1 col1\" >84.03%</td> \n",
       "    </tr>    <tr> \n",
       "        <th id=\"T_1d0ccae4_847e_11e8_be7d_34f39af3d017level0_row2\" class=\"row_heading level0 row2\" >Other / Non-Disclosed</th> \n",
       "        <td id=\"T_1d0ccae4_847e_11e8_be7d_34f39af3d017row2_col0\" class=\"data row2 col0\" >11</td> \n",
       "        <td id=\"T_1d0ccae4_847e_11e8_be7d_34f39af3d017row2_col1\" class=\"data row2 col1\" >1.91%</td> \n",
       "    </tr></tbody> \n",
       "</table> "
      ],
      "text/plain": [
       "<pandas.io.formats.style.Styler at 0x14dec129048>"
      ]
     },
     "execution_count": 52,
     "metadata": {},
     "output_type": "execute_result"
    }
   ],
   "source": [
    "#create DataFrame containing user counts by gender\n",
    "gender_demo = pd.DataFrame(purchase_data.groupby('Gender').SN.nunique())\n",
    "\n",
    "#rename 'SN' column to 'User Count'\n",
    "gender_demo = gender_demo.rename(index=str, columns={'SN': 'Player Count'})\n",
    "\n",
    "#add % to totals in a new columns\n",
    "gender_demo['Percentage of Players'] = gender_demo['Player Count'] / sum(gender_demo['Player Count'])*100\n",
    "\n",
    "#format new column with %\n",
    "gender_demo = gender_demo.style.format({'Percentage of Players': '{:.2f}%'})\n",
    "gender_demo"
   ]
  },
  {
   "cell_type": "markdown",
   "metadata": {},
   "source": [
    "\n",
    "## Purchasing Analysis (Gender)"
   ]
  },
  {
   "cell_type": "markdown",
   "metadata": {},
   "source": [
    "* Run basic calculations to obtain purchase count, avg. purchase price, etc. by gender\n",
    "\n",
    "\n",
    "* For normalized purchasing, divide total purchase value by purchase count, by gender\n",
    "\n",
    "\n",
    "* Create a summary data frame to hold the results\n",
    "\n",
    "\n",
    "* Optional: give the displayed data cleaner formatting\n",
    "\n",
    "\n",
    "* Display the summary data frame"
   ]
  },
  {
   "cell_type": "code",
   "execution_count": 53,
   "metadata": {},
   "outputs": [
    {
     "name": "stderr",
     "output_type": "stream",
     "text": [
      "C:\\Users\\creatural1\\AppData\\Local\\Continuum\\anaconda3\\lib\\site-packages\\pandas\\core\\groupby.py:4291: FutureWarning: using a dict with renaming is deprecated and will be removed in a future version\n",
      "  return super(DataFrameGroupBy, self).aggregate(arg, *args, **kwargs)\n"
     ]
    },
    {
     "data": {
      "text/html": [
       "<style  type=\"text/css\" >\n",
       "</style>  \n",
       "<table id=\"T_20a1dcf0_847e_11e8_a6d0_34f39af3d017\" > \n",
       "<thead>    <tr> \n",
       "        <th class=\"blank level0\" ></th> \n",
       "        <th class=\"col_heading level0 col0\" >Purchase Count</th> \n",
       "        <th class=\"col_heading level0 col1\" >Average Purchase Price</th> \n",
       "        <th class=\"col_heading level0 col2\" >Total Purchase Value</th> \n",
       "        <th class=\"col_heading level0 col3\" >Normalized Totals</th> \n",
       "    </tr>    <tr> \n",
       "        <th class=\"index_name level0\" >Gender</th> \n",
       "        <th class=\"blank\" ></th> \n",
       "        <th class=\"blank\" ></th> \n",
       "        <th class=\"blank\" ></th> \n",
       "        <th class=\"blank\" ></th> \n",
       "    </tr></thead> \n",
       "<tbody>    <tr> \n",
       "        <th id=\"T_20a1dcf0_847e_11e8_a6d0_34f39af3d017level0_row0\" class=\"row_heading level0 row0\" >Female</th> \n",
       "        <td id=\"T_20a1dcf0_847e_11e8_a6d0_34f39af3d017row0_col0\" class=\"data row0 col0\" >113</td> \n",
       "        <td id=\"T_20a1dcf0_847e_11e8_a6d0_34f39af3d017row0_col1\" class=\"data row0 col1\" >$3.20</td> \n",
       "        <td id=\"T_20a1dcf0_847e_11e8_a6d0_34f39af3d017row0_col2\" class=\"data row0 col2\" >$361.94</td> \n",
       "        <td id=\"T_20a1dcf0_847e_11e8_a6d0_34f39af3d017row0_col3\" class=\"data row0 col3\" >$3.20</td> \n",
       "    </tr>    <tr> \n",
       "        <th id=\"T_20a1dcf0_847e_11e8_a6d0_34f39af3d017level0_row1\" class=\"row_heading level0 row1\" >Male</th> \n",
       "        <td id=\"T_20a1dcf0_847e_11e8_a6d0_34f39af3d017row1_col0\" class=\"data row1 col0\" >652</td> \n",
       "        <td id=\"T_20a1dcf0_847e_11e8_a6d0_34f39af3d017row1_col1\" class=\"data row1 col1\" >$3.02</td> \n",
       "        <td id=\"T_20a1dcf0_847e_11e8_a6d0_34f39af3d017row1_col2\" class=\"data row1 col2\" >$1967.64</td> \n",
       "        <td id=\"T_20a1dcf0_847e_11e8_a6d0_34f39af3d017row1_col3\" class=\"data row1 col3\" >$3.02</td> \n",
       "    </tr>    <tr> \n",
       "        <th id=\"T_20a1dcf0_847e_11e8_a6d0_34f39af3d017level0_row2\" class=\"row_heading level0 row2\" >Other / Non-Disclosed</th> \n",
       "        <td id=\"T_20a1dcf0_847e_11e8_a6d0_34f39af3d017row2_col0\" class=\"data row2 col0\" >15</td> \n",
       "        <td id=\"T_20a1dcf0_847e_11e8_a6d0_34f39af3d017row2_col1\" class=\"data row2 col1\" >$3.35</td> \n",
       "        <td id=\"T_20a1dcf0_847e_11e8_a6d0_34f39af3d017row2_col2\" class=\"data row2 col2\" >$50.19</td> \n",
       "        <td id=\"T_20a1dcf0_847e_11e8_a6d0_34f39af3d017row2_col3\" class=\"data row2 col3\" >$3.35</td> \n",
       "    </tr></tbody> \n",
       "</table> "
      ],
      "text/plain": [
       "<pandas.io.formats.style.Styler at 0x14dec0e5240>"
      ]
     },
     "execution_count": 53,
     "metadata": {},
     "output_type": "execute_result"
    }
   ],
   "source": [
    "#create DataFrame to store purchase stats by gender using the 'Purchase ID' and 'Price' columns\n",
    "gender_stats = pd.DataFrame(purchase_data.groupby('Gender').agg({'Purchase ID':'count', 'Price': {'Total Purchase Value':'sum', 'Average Purchase Price':'mean'}}))\n",
    "\n",
    "#collapse the multiple indexes to create a cleanly labeled data frame\n",
    "gender_stats.columns = gender_stats.columns.get_level_values(1) \n",
    "\n",
    "#rename the columns to clarify what they are\n",
    "gender_stats = gender_stats.rename(index=str, columns={'count': 'Purchase Count'})\n",
    "\n",
    "#add a column to store the average purchase value\n",
    "gender_stats['Normalized Totals'] = gender_stats['Total Purchase Value']/gender_stats['Purchase Count']\n",
    "\n",
    "#arrange columns accordingly\n",
    "gender_stats = gender_stats[['Purchase Count', 'Average Purchase Price', 'Total Purchase Value', 'Normalized Totals']]\n",
    "\n",
    "#format the 'Total Purchase Value', 'Average Purchase Price', and 'Normalized Totals' columns to display as currency\n",
    "gender_stats = gender_stats.style.format({'Total Purchase Value': '${:.2f}', 'Average Purchase Price': '${:.2f}', 'Normalized Totals':'${:.2f}'})\n",
    "gender_stats"
   ]
  },
  {
   "cell_type": "markdown",
   "metadata": {},
   "source": [
    "## Age Demographics"
   ]
  },
  {
   "cell_type": "markdown",
   "metadata": {},
   "source": [
    "* Establish bins for ages\n",
    "\n",
    "\n",
    "* Categorize the existing players using the age bins. Hint: use pd.cut()\n",
    "\n",
    "\n",
    "* Calculate the numbers and percentages by age group\n",
    "\n",
    "\n",
    "* Create a summary data frame to hold the results\n",
    "\n",
    "\n",
    "* Optional: round the percentage column to two decimal points\n",
    "\n",
    "\n",
    "* Display Age Demographics Table\n"
   ]
  },
  {
   "cell_type": "code",
   "execution_count": 54,
   "metadata": {},
   "outputs": [
    {
     "data": {
      "text/html": [
       "<style  type=\"text/css\" >\n",
       "</style>  \n",
       "<table id=\"T_219f8a66_847e_11e8_8d21_34f39af3d017\" > \n",
       "<thead>    <tr> \n",
       "        <th class=\"blank level0\" ></th> \n",
       "        <th class=\"col_heading level0 col0\" >Player Count</th> \n",
       "        <th class=\"col_heading level0 col1\" >Percentage of Players</th> \n",
       "    </tr>    <tr> \n",
       "        <th class=\"index_name level0\" >Age</th> \n",
       "        <th class=\"blank\" ></th> \n",
       "        <th class=\"blank\" ></th> \n",
       "    </tr></thead> \n",
       "<tbody>    <tr> \n",
       "        <th id=\"T_219f8a66_847e_11e8_8d21_34f39af3d017level0_row0\" class=\"row_heading level0 row0\" ><10</th> \n",
       "        <td id=\"T_219f8a66_847e_11e8_8d21_34f39af3d017row0_col0\" class=\"data row0 col0\" >17</td> \n",
       "        <td id=\"T_219f8a66_847e_11e8_8d21_34f39af3d017row0_col1\" class=\"data row0 col1\" >2.95%</td> \n",
       "    </tr>    <tr> \n",
       "        <th id=\"T_219f8a66_847e_11e8_8d21_34f39af3d017level0_row1\" class=\"row_heading level0 row1\" >10-14</th> \n",
       "        <td id=\"T_219f8a66_847e_11e8_8d21_34f39af3d017row1_col0\" class=\"data row1 col0\" >22</td> \n",
       "        <td id=\"T_219f8a66_847e_11e8_8d21_34f39af3d017row1_col1\" class=\"data row1 col1\" >3.82%</td> \n",
       "    </tr>    <tr> \n",
       "        <th id=\"T_219f8a66_847e_11e8_8d21_34f39af3d017level0_row2\" class=\"row_heading level0 row2\" >15-19</th> \n",
       "        <td id=\"T_219f8a66_847e_11e8_8d21_34f39af3d017row2_col0\" class=\"data row2 col0\" >107</td> \n",
       "        <td id=\"T_219f8a66_847e_11e8_8d21_34f39af3d017row2_col1\" class=\"data row2 col1\" >18.58%</td> \n",
       "    </tr>    <tr> \n",
       "        <th id=\"T_219f8a66_847e_11e8_8d21_34f39af3d017level0_row3\" class=\"row_heading level0 row3\" >20-24</th> \n",
       "        <td id=\"T_219f8a66_847e_11e8_8d21_34f39af3d017row3_col0\" class=\"data row3 col0\" >258</td> \n",
       "        <td id=\"T_219f8a66_847e_11e8_8d21_34f39af3d017row3_col1\" class=\"data row3 col1\" >44.79%</td> \n",
       "    </tr>    <tr> \n",
       "        <th id=\"T_219f8a66_847e_11e8_8d21_34f39af3d017level0_row4\" class=\"row_heading level0 row4\" >25-29</th> \n",
       "        <td id=\"T_219f8a66_847e_11e8_8d21_34f39af3d017row4_col0\" class=\"data row4 col0\" >77</td> \n",
       "        <td id=\"T_219f8a66_847e_11e8_8d21_34f39af3d017row4_col1\" class=\"data row4 col1\" >13.37%</td> \n",
       "    </tr>    <tr> \n",
       "        <th id=\"T_219f8a66_847e_11e8_8d21_34f39af3d017level0_row5\" class=\"row_heading level0 row5\" >30-34</th> \n",
       "        <td id=\"T_219f8a66_847e_11e8_8d21_34f39af3d017row5_col0\" class=\"data row5 col0\" >52</td> \n",
       "        <td id=\"T_219f8a66_847e_11e8_8d21_34f39af3d017row5_col1\" class=\"data row5 col1\" >9.03%</td> \n",
       "    </tr>    <tr> \n",
       "        <th id=\"T_219f8a66_847e_11e8_8d21_34f39af3d017level0_row6\" class=\"row_heading level0 row6\" >35-39</th> \n",
       "        <td id=\"T_219f8a66_847e_11e8_8d21_34f39af3d017row6_col0\" class=\"data row6 col0\" >31</td> \n",
       "        <td id=\"T_219f8a66_847e_11e8_8d21_34f39af3d017row6_col1\" class=\"data row6 col1\" >5.38%</td> \n",
       "    </tr>    <tr> \n",
       "        <th id=\"T_219f8a66_847e_11e8_8d21_34f39af3d017level0_row7\" class=\"row_heading level0 row7\" >40+</th> \n",
       "        <td id=\"T_219f8a66_847e_11e8_8d21_34f39af3d017row7_col0\" class=\"data row7 col0\" >12</td> \n",
       "        <td id=\"T_219f8a66_847e_11e8_8d21_34f39af3d017row7_col1\" class=\"data row7 col1\" >2.08%</td> \n",
       "    </tr></tbody> \n",
       "</table> "
      ],
      "text/plain": [
       "<pandas.io.formats.style.Styler at 0x14dec1292e8>"
      ]
     },
     "execution_count": 54,
     "metadata": {},
     "output_type": "execute_result"
    }
   ],
   "source": [
    "# Establish bins for ages\n",
    "age_bins = [0, 9.90, 14.90, 19.90, 24.90, 29.90, 34.90, 39.90, 99999]\n",
    "group_names = [\"<10\", \"10-14\", \"15-19\", \"20-24\", \"25-29\", \"30-34\", \"35-39\", \"40+\"]\n",
    "\n",
    "#categorize the players according to the age bin\n",
    "purchase_data['Age'] = pd.cut(purchase_data['Age'], age_bins, labels=group_names)\n",
    "\n",
    "#create a DataFrame to store grouped by top-line stats based on age\n",
    "age_demo = pd.DataFrame(purchase_data.groupby('Age').SN.nunique())\n",
    "\n",
    "#rename 'SN' column to 'User Count'\n",
    "age_demo = age_demo.rename(index=str, columns={'SN': 'Player Count'})\n",
    "\n",
    "#add % to totals in a new columns\n",
    "age_demo['Percentage of Players'] = age_demo['Player Count'] / sum(age_demo['Player Count'])*100\n",
    "\n",
    "#format new column with %\n",
    "age_demo = age_demo.style.format({'Percentage of Players': '{:.2f}%'})\n",
    "age_demo"
   ]
  },
  {
   "cell_type": "markdown",
   "metadata": {},
   "source": [
    "## Purchasing Analysis (Age)"
   ]
  },
  {
   "cell_type": "markdown",
   "metadata": {},
   "source": [
    "* Bin the purchase_data data frame by age\n",
    "\n",
    "\n",
    "* Run basic calculations to obtain purchase count, avg. purchase price, etc. in the table below\n",
    "\n",
    "\n",
    "* Calculate Normalized Purchasing\n",
    "\n",
    "\n",
    "* Create a summary data frame to hold the results\n",
    "\n",
    "\n",
    "* Optional: give the displayed data cleaner formatting\n",
    "\n",
    "\n",
    "* Display the summary data frame"
   ]
  },
  {
   "cell_type": "code",
   "execution_count": 55,
   "metadata": {},
   "outputs": [
    {
     "name": "stderr",
     "output_type": "stream",
     "text": [
      "C:\\Users\\creatural1\\AppData\\Local\\Continuum\\anaconda3\\lib\\site-packages\\pandas\\core\\groupby.py:4291: FutureWarning: using a dict with renaming is deprecated and will be removed in a future version\n",
      "  return super(DataFrameGroupBy, self).aggregate(arg, *args, **kwargs)\n"
     ]
    },
    {
     "data": {
      "text/html": [
       "<style  type=\"text/css\" >\n",
       "</style>  \n",
       "<table id=\"T_ebe7e5b6_847e_11e8_91ef_34f39af3d017\" > \n",
       "<thead>    <tr> \n",
       "        <th class=\"blank level0\" ></th> \n",
       "        <th class=\"col_heading level0 col0\" >Purchase Count</th> \n",
       "        <th class=\"col_heading level0 col1\" >Average Purchase Price</th> \n",
       "        <th class=\"col_heading level0 col2\" >Total Purchase Value</th> \n",
       "        <th class=\"col_heading level0 col3\" >Normalized Totals</th> \n",
       "    </tr>    <tr> \n",
       "        <th class=\"index_name level0\" >Age</th> \n",
       "        <th class=\"blank\" ></th> \n",
       "        <th class=\"blank\" ></th> \n",
       "        <th class=\"blank\" ></th> \n",
       "        <th class=\"blank\" ></th> \n",
       "    </tr></thead> \n",
       "<tbody>    <tr> \n",
       "        <th id=\"T_ebe7e5b6_847e_11e8_91ef_34f39af3d017level0_row0\" class=\"row_heading level0 row0\" ><10</th> \n",
       "        <td id=\"T_ebe7e5b6_847e_11e8_91ef_34f39af3d017row0_col0\" class=\"data row0 col0\" >23</td> \n",
       "        <td id=\"T_ebe7e5b6_847e_11e8_91ef_34f39af3d017row0_col1\" class=\"data row0 col1\" >$3.35</td> \n",
       "        <td id=\"T_ebe7e5b6_847e_11e8_91ef_34f39af3d017row0_col2\" class=\"data row0 col2\" >$77.13</td> \n",
       "        <td id=\"T_ebe7e5b6_847e_11e8_91ef_34f39af3d017row0_col3\" class=\"data row0 col3\" >$3.35</td> \n",
       "    </tr>    <tr> \n",
       "        <th id=\"T_ebe7e5b6_847e_11e8_91ef_34f39af3d017level0_row1\" class=\"row_heading level0 row1\" >10-14</th> \n",
       "        <td id=\"T_ebe7e5b6_847e_11e8_91ef_34f39af3d017row1_col0\" class=\"data row1 col0\" >28</td> \n",
       "        <td id=\"T_ebe7e5b6_847e_11e8_91ef_34f39af3d017row1_col1\" class=\"data row1 col1\" >$2.96</td> \n",
       "        <td id=\"T_ebe7e5b6_847e_11e8_91ef_34f39af3d017row1_col2\" class=\"data row1 col2\" >$82.78</td> \n",
       "        <td id=\"T_ebe7e5b6_847e_11e8_91ef_34f39af3d017row1_col3\" class=\"data row1 col3\" >$2.96</td> \n",
       "    </tr>    <tr> \n",
       "        <th id=\"T_ebe7e5b6_847e_11e8_91ef_34f39af3d017level0_row2\" class=\"row_heading level0 row2\" >15-19</th> \n",
       "        <td id=\"T_ebe7e5b6_847e_11e8_91ef_34f39af3d017row2_col0\" class=\"data row2 col0\" >136</td> \n",
       "        <td id=\"T_ebe7e5b6_847e_11e8_91ef_34f39af3d017row2_col1\" class=\"data row2 col1\" >$3.04</td> \n",
       "        <td id=\"T_ebe7e5b6_847e_11e8_91ef_34f39af3d017row2_col2\" class=\"data row2 col2\" >$412.89</td> \n",
       "        <td id=\"T_ebe7e5b6_847e_11e8_91ef_34f39af3d017row2_col3\" class=\"data row2 col3\" >$3.04</td> \n",
       "    </tr>    <tr> \n",
       "        <th id=\"T_ebe7e5b6_847e_11e8_91ef_34f39af3d017level0_row3\" class=\"row_heading level0 row3\" >20-24</th> \n",
       "        <td id=\"T_ebe7e5b6_847e_11e8_91ef_34f39af3d017row3_col0\" class=\"data row3 col0\" >365</td> \n",
       "        <td id=\"T_ebe7e5b6_847e_11e8_91ef_34f39af3d017row3_col1\" class=\"data row3 col1\" >$3.05</td> \n",
       "        <td id=\"T_ebe7e5b6_847e_11e8_91ef_34f39af3d017row3_col2\" class=\"data row3 col2\" >$1114.06</td> \n",
       "        <td id=\"T_ebe7e5b6_847e_11e8_91ef_34f39af3d017row3_col3\" class=\"data row3 col3\" >$3.05</td> \n",
       "    </tr>    <tr> \n",
       "        <th id=\"T_ebe7e5b6_847e_11e8_91ef_34f39af3d017level0_row4\" class=\"row_heading level0 row4\" >25-29</th> \n",
       "        <td id=\"T_ebe7e5b6_847e_11e8_91ef_34f39af3d017row4_col0\" class=\"data row4 col0\" >101</td> \n",
       "        <td id=\"T_ebe7e5b6_847e_11e8_91ef_34f39af3d017row4_col1\" class=\"data row4 col1\" >$2.90</td> \n",
       "        <td id=\"T_ebe7e5b6_847e_11e8_91ef_34f39af3d017row4_col2\" class=\"data row4 col2\" >$293.00</td> \n",
       "        <td id=\"T_ebe7e5b6_847e_11e8_91ef_34f39af3d017row4_col3\" class=\"data row4 col3\" >$2.90</td> \n",
       "    </tr>    <tr> \n",
       "        <th id=\"T_ebe7e5b6_847e_11e8_91ef_34f39af3d017level0_row5\" class=\"row_heading level0 row5\" >30-34</th> \n",
       "        <td id=\"T_ebe7e5b6_847e_11e8_91ef_34f39af3d017row5_col0\" class=\"data row5 col0\" >73</td> \n",
       "        <td id=\"T_ebe7e5b6_847e_11e8_91ef_34f39af3d017row5_col1\" class=\"data row5 col1\" >$2.93</td> \n",
       "        <td id=\"T_ebe7e5b6_847e_11e8_91ef_34f39af3d017row5_col2\" class=\"data row5 col2\" >$214.00</td> \n",
       "        <td id=\"T_ebe7e5b6_847e_11e8_91ef_34f39af3d017row5_col3\" class=\"data row5 col3\" >$2.93</td> \n",
       "    </tr>    <tr> \n",
       "        <th id=\"T_ebe7e5b6_847e_11e8_91ef_34f39af3d017level0_row6\" class=\"row_heading level0 row6\" >35-39</th> \n",
       "        <td id=\"T_ebe7e5b6_847e_11e8_91ef_34f39af3d017row6_col0\" class=\"data row6 col0\" >41</td> \n",
       "        <td id=\"T_ebe7e5b6_847e_11e8_91ef_34f39af3d017row6_col1\" class=\"data row6 col1\" >$3.60</td> \n",
       "        <td id=\"T_ebe7e5b6_847e_11e8_91ef_34f39af3d017row6_col2\" class=\"data row6 col2\" >$147.67</td> \n",
       "        <td id=\"T_ebe7e5b6_847e_11e8_91ef_34f39af3d017row6_col3\" class=\"data row6 col3\" >$3.60</td> \n",
       "    </tr>    <tr> \n",
       "        <th id=\"T_ebe7e5b6_847e_11e8_91ef_34f39af3d017level0_row7\" class=\"row_heading level0 row7\" >40+</th> \n",
       "        <td id=\"T_ebe7e5b6_847e_11e8_91ef_34f39af3d017row7_col0\" class=\"data row7 col0\" >13</td> \n",
       "        <td id=\"T_ebe7e5b6_847e_11e8_91ef_34f39af3d017row7_col1\" class=\"data row7 col1\" >$2.94</td> \n",
       "        <td id=\"T_ebe7e5b6_847e_11e8_91ef_34f39af3d017row7_col2\" class=\"data row7 col2\" >$38.24</td> \n",
       "        <td id=\"T_ebe7e5b6_847e_11e8_91ef_34f39af3d017row7_col3\" class=\"data row7 col3\" >$2.94</td> \n",
       "    </tr></tbody> \n",
       "</table> "
      ],
      "text/plain": [
       "<pandas.io.formats.style.Styler at 0x14dec0e5898>"
      ]
     },
     "execution_count": 55,
     "metadata": {},
     "output_type": "execute_result"
    }
   ],
   "source": [
    "#create DataFrame to store purchase stats by age using the 'Purchase ID' and 'Price' columns\n",
    "age_stats = pd.DataFrame(purchase_data.groupby('Age').agg({'Purchase ID':'count', 'Price': {'Total Purchase Value':'sum', 'Average Purchase Price':'mean'}}))\n",
    "\n",
    "#collapse the multiple indexes to create a cleanly labeled data frame\n",
    "age_stats.columns = age_stats.columns.get_level_values(1) \n",
    "\n",
    "#rename the columns to clarify what they are\n",
    "age_stats = age_stats.rename(index=str, columns={'count': 'Purchase Count'})\n",
    "\n",
    "#add a column to store the average purchase value\n",
    "age_stats['Normalized Totals'] = age_stats['Total Purchase Value']/age_stats['Purchase Count']\n",
    "\n",
    "#arrange columns accordingly\n",
    "age_stats = age_stats[['Purchase Count', 'Average Purchase Price', 'Total Purchase Value', 'Normalized Totals']]\n",
    "\n",
    "#format the 'Total Purchase Value', 'Average Purchase Price', and 'Normalized Totals' columns to display as currency\n",
    "age_stats = age_stats.style.format({'Total Purchase Value': '${:.2f}', 'Average Purchase Price': '${:.2f}', 'Normalized Totals':'${:.2f}'})\n",
    "age_stats"
   ]
  },
  {
   "cell_type": "markdown",
   "metadata": {},
   "source": [
    "## Top Spenders"
   ]
  },
  {
   "cell_type": "markdown",
   "metadata": {},
   "source": [
    "* Run basic calculations to obtain the results in the table below\n",
    "\n",
    "\n",
    "* Create a summary data frame to hold the results\n",
    "\n",
    "\n",
    "* Sort the total purchase value column in descending order\n",
    "\n",
    "\n",
    "* Optional: give the displayed data cleaner formatting\n",
    "\n",
    "\n",
    "* Display a preview of the summary data frame\n",
    "\n"
   ]
  },
  {
   "cell_type": "code",
   "execution_count": 59,
   "metadata": {},
   "outputs": [
    {
     "name": "stderr",
     "output_type": "stream",
     "text": [
      "C:\\Users\\creatural1\\AppData\\Local\\Continuum\\anaconda3\\lib\\site-packages\\pandas\\core\\groupby.py:4291: FutureWarning: using a dict with renaming is deprecated and will be removed in a future version\n",
      "  return super(DataFrameGroupBy, self).aggregate(arg, *args, **kwargs)\n"
     ]
    },
    {
     "data": {
      "text/html": [
       "<style  type=\"text/css\" >\n",
       "</style>  \n",
       "<table id=\"T_37b496e2_8481_11e8_99b6_34f39af3d017\" > \n",
       "<thead>    <tr> \n",
       "        <th class=\"blank level0\" ></th> \n",
       "        <th class=\"col_heading level0 col0\" >Purchase Count</th> \n",
       "        <th class=\"col_heading level0 col1\" >Total Purchase Value</th> \n",
       "        <th class=\"col_heading level0 col2\" >Average Purchase Price</th> \n",
       "    </tr>    <tr> \n",
       "        <th class=\"index_name level0\" >SN</th> \n",
       "        <th class=\"blank\" ></th> \n",
       "        <th class=\"blank\" ></th> \n",
       "        <th class=\"blank\" ></th> \n",
       "    </tr></thead> \n",
       "<tbody>    <tr> \n",
       "        <th id=\"T_37b496e2_8481_11e8_99b6_34f39af3d017level0_row0\" class=\"row_heading level0 row0\" >Lisosia93</th> \n",
       "        <td id=\"T_37b496e2_8481_11e8_99b6_34f39af3d017row0_col0\" class=\"data row0 col0\" >5</td> \n",
       "        <td id=\"T_37b496e2_8481_11e8_99b6_34f39af3d017row0_col1\" class=\"data row0 col1\" >$18.96</td> \n",
       "        <td id=\"T_37b496e2_8481_11e8_99b6_34f39af3d017row0_col2\" class=\"data row0 col2\" >$3.79</td> \n",
       "    </tr>    <tr> \n",
       "        <th id=\"T_37b496e2_8481_11e8_99b6_34f39af3d017level0_row1\" class=\"row_heading level0 row1\" >Idastidru52</th> \n",
       "        <td id=\"T_37b496e2_8481_11e8_99b6_34f39af3d017row1_col0\" class=\"data row1 col0\" >4</td> \n",
       "        <td id=\"T_37b496e2_8481_11e8_99b6_34f39af3d017row1_col1\" class=\"data row1 col1\" >$15.45</td> \n",
       "        <td id=\"T_37b496e2_8481_11e8_99b6_34f39af3d017row1_col2\" class=\"data row1 col2\" >$3.86</td> \n",
       "    </tr>    <tr> \n",
       "        <th id=\"T_37b496e2_8481_11e8_99b6_34f39af3d017level0_row2\" class=\"row_heading level0 row2\" >Chamjask73</th> \n",
       "        <td id=\"T_37b496e2_8481_11e8_99b6_34f39af3d017row2_col0\" class=\"data row2 col0\" >3</td> \n",
       "        <td id=\"T_37b496e2_8481_11e8_99b6_34f39af3d017row2_col1\" class=\"data row2 col1\" >$13.83</td> \n",
       "        <td id=\"T_37b496e2_8481_11e8_99b6_34f39af3d017row2_col2\" class=\"data row2 col2\" >$4.61</td> \n",
       "    </tr>    <tr> \n",
       "        <th id=\"T_37b496e2_8481_11e8_99b6_34f39af3d017level0_row3\" class=\"row_heading level0 row3\" >Iral74</th> \n",
       "        <td id=\"T_37b496e2_8481_11e8_99b6_34f39af3d017row3_col0\" class=\"data row3 col0\" >4</td> \n",
       "        <td id=\"T_37b496e2_8481_11e8_99b6_34f39af3d017row3_col1\" class=\"data row3 col1\" >$13.62</td> \n",
       "        <td id=\"T_37b496e2_8481_11e8_99b6_34f39af3d017row3_col2\" class=\"data row3 col2\" >$3.40</td> \n",
       "    </tr>    <tr> \n",
       "        <th id=\"T_37b496e2_8481_11e8_99b6_34f39af3d017level0_row4\" class=\"row_heading level0 row4\" >Iskadarya95</th> \n",
       "        <td id=\"T_37b496e2_8481_11e8_99b6_34f39af3d017row4_col0\" class=\"data row4 col0\" >3</td> \n",
       "        <td id=\"T_37b496e2_8481_11e8_99b6_34f39af3d017row4_col1\" class=\"data row4 col1\" >$13.10</td> \n",
       "        <td id=\"T_37b496e2_8481_11e8_99b6_34f39af3d017row4_col2\" class=\"data row4 col2\" >$4.37</td> \n",
       "    </tr></tbody> \n",
       "</table> "
      ],
      "text/plain": [
       "<pandas.io.formats.style.Styler at 0x14dec154860>"
      ]
     },
     "execution_count": 59,
     "metadata": {},
     "output_type": "execute_result"
    }
   ],
   "source": [
    "#identify top 5 spenders by grouping purchases by 'SN'\n",
    "spend_summ = pd.DataFrame(purchase_data.groupby('SN').agg({'Purchase ID':'count', 'Price': {'Total Purchase Value':'sum', 'Average Purchase Price':'mean'}}))\n",
    "\n",
    "#collapse the multiple indexes to create a cleanly labeled data frame\n",
    "spend_summ.columns = spend_summ.columns.get_level_values(1) \n",
    "\n",
    "#rename the columns to clarify what they are\n",
    "spend_summ = spend_summ.rename(index=str, columns={'count': 'Purchase Count'})\n",
    "\n",
    "#sort the 'Total Purchase Value' column in descending order to identify top spenders\n",
    "spend_summ = spend_summ.sort_values(by='Total Purchase Value', ascending=False)\n",
    "\n",
    "#slice the DataFrame so that only the top 5 rows populate\n",
    "spend_summ = spend_summ[0:5]\n",
    "\n",
    "#convert formatting to currency\n",
    "spend_summ = spend_summ.style.format({'Total Purchase Value': '${:.2f}', 'Average Purchase Price': '${:.2f}'})\n",
    "spend_summ"
   ]
  },
  {
   "cell_type": "markdown",
   "metadata": {},
   "source": [
    "## Most Popular Items"
   ]
  },
  {
   "cell_type": "markdown",
   "metadata": {},
   "source": [
    "* Retrieve the Item ID, Item Name, and Item Price columns\n",
    "\n",
    "\n",
    "* Group by Item ID and Item Name. Perform calculations to obtain purchase count, item price, and total purchase value\n",
    "\n",
    "\n",
    "* Create a summary data frame to hold the results\n",
    "\n",
    "\n",
    "* Sort the purchase count column in descending order\n",
    "\n",
    "\n",
    "* Optional: give the displayed data cleaner formatting\n",
    "\n",
    "\n",
    "* Display a preview of the summary data frame\n",
    "\n"
   ]
  },
  {
   "cell_type": "code",
   "execution_count": 9,
   "metadata": {},
   "outputs": [
    {
     "data": {
      "text/html": [
       "<div>\n",
       "<table border=\"1\" class=\"dataframe\">\n",
       "  <thead>\n",
       "    <tr style=\"text-align: right;\">\n",
       "      <th></th>\n",
       "      <th></th>\n",
       "      <th>Purchase Count</th>\n",
       "      <th>Item Price</th>\n",
       "      <th>Total Purchase Value</th>\n",
       "    </tr>\n",
       "    <tr>\n",
       "      <th>Item ID</th>\n",
       "      <th>Item Name</th>\n",
       "      <th></th>\n",
       "      <th></th>\n",
       "      <th></th>\n",
       "    </tr>\n",
       "  </thead>\n",
       "  <tbody>\n",
       "    <tr>\n",
       "      <th>178</th>\n",
       "      <th>Oathbreaker, Last Hope of the Breaking Storm</th>\n",
       "      <td>12</td>\n",
       "      <td>$4.23</td>\n",
       "      <td>$50.76</td>\n",
       "    </tr>\n",
       "    <tr>\n",
       "      <th>145</th>\n",
       "      <th>Fiery Glass Crusader</th>\n",
       "      <td>9</td>\n",
       "      <td>$4.58</td>\n",
       "      <td>$41.22</td>\n",
       "    </tr>\n",
       "    <tr>\n",
       "      <th>108</th>\n",
       "      <th>Extraction, Quickblade Of Trembling Hands</th>\n",
       "      <td>9</td>\n",
       "      <td>$3.53</td>\n",
       "      <td>$31.77</td>\n",
       "    </tr>\n",
       "    <tr>\n",
       "      <th>82</th>\n",
       "      <th>Nirvana</th>\n",
       "      <td>9</td>\n",
       "      <td>$4.90</td>\n",
       "      <td>$44.10</td>\n",
       "    </tr>\n",
       "    <tr>\n",
       "      <th>19</th>\n",
       "      <th>Pursuit, Cudgel of Necromancy</th>\n",
       "      <td>8</td>\n",
       "      <td>$1.02</td>\n",
       "      <td>$8.16</td>\n",
       "    </tr>\n",
       "  </tbody>\n",
       "</table>\n",
       "</div>"
      ],
      "text/plain": [
       "                                                     Purchase Count  \\\n",
       "Item ID Item Name                                                     \n",
       "178     Oathbreaker, Last Hope of the Breaking Storm             12   \n",
       "145     Fiery Glass Crusader                                      9   \n",
       "108     Extraction, Quickblade Of Trembling Hands                 9   \n",
       "82      Nirvana                                                   9   \n",
       "19      Pursuit, Cudgel of Necromancy                             8   \n",
       "\n",
       "                                                     Item Price  \\\n",
       "Item ID Item Name                                                 \n",
       "178     Oathbreaker, Last Hope of the Breaking Storm      $4.23   \n",
       "145     Fiery Glass Crusader                              $4.58   \n",
       "108     Extraction, Quickblade Of Trembling Hands         $3.53   \n",
       "82      Nirvana                                           $4.90   \n",
       "19      Pursuit, Cudgel of Necromancy                     $1.02   \n",
       "\n",
       "                                                     Total Purchase Value  \n",
       "Item ID Item Name                                                          \n",
       "178     Oathbreaker, Last Hope of the Breaking Storm               $50.76  \n",
       "145     Fiery Glass Crusader                                       $41.22  \n",
       "108     Extraction, Quickblade Of Trembling Hands                  $31.77  \n",
       "82      Nirvana                                                    $44.10  \n",
       "19      Pursuit, Cudgel of Necromancy                               $8.16  "
      ]
     },
     "execution_count": 9,
     "metadata": {},
     "output_type": "execute_result"
    }
   ],
   "source": []
  },
  {
   "cell_type": "markdown",
   "metadata": {},
   "source": [
    "## Most Profitable Items"
   ]
  },
  {
   "cell_type": "markdown",
   "metadata": {},
   "source": [
    "* Sort the above table by total purchase value in descending order\n",
    "\n",
    "\n",
    "* Optional: give the displayed data cleaner formatting\n",
    "\n",
    "\n",
    "* Display a preview of the data frame\n",
    "\n"
   ]
  },
  {
   "cell_type": "code",
   "execution_count": 10,
   "metadata": {
    "scrolled": true
   },
   "outputs": [
    {
     "data": {
      "text/html": [
       "<div>\n",
       "<table border=\"1\" class=\"dataframe\">\n",
       "  <thead>\n",
       "    <tr style=\"text-align: right;\">\n",
       "      <th></th>\n",
       "      <th></th>\n",
       "      <th>Purchase Count</th>\n",
       "      <th>Item Price</th>\n",
       "      <th>Total Purchase Value</th>\n",
       "    </tr>\n",
       "    <tr>\n",
       "      <th>Item ID</th>\n",
       "      <th>Item Name</th>\n",
       "      <th></th>\n",
       "      <th></th>\n",
       "      <th></th>\n",
       "    </tr>\n",
       "  </thead>\n",
       "  <tbody>\n",
       "    <tr>\n",
       "      <th>178</th>\n",
       "      <th>Oathbreaker, Last Hope of the Breaking Storm</th>\n",
       "      <td>12</td>\n",
       "      <td>$4.23</td>\n",
       "      <td>$50.76</td>\n",
       "    </tr>\n",
       "    <tr>\n",
       "      <th>82</th>\n",
       "      <th>Nirvana</th>\n",
       "      <td>9</td>\n",
       "      <td>$4.90</td>\n",
       "      <td>$44.10</td>\n",
       "    </tr>\n",
       "    <tr>\n",
       "      <th>145</th>\n",
       "      <th>Fiery Glass Crusader</th>\n",
       "      <td>9</td>\n",
       "      <td>$4.58</td>\n",
       "      <td>$41.22</td>\n",
       "    </tr>\n",
       "    <tr>\n",
       "      <th>92</th>\n",
       "      <th>Final Critic</th>\n",
       "      <td>8</td>\n",
       "      <td>$4.88</td>\n",
       "      <td>$39.04</td>\n",
       "    </tr>\n",
       "    <tr>\n",
       "      <th>103</th>\n",
       "      <th>Singed Scalpel</th>\n",
       "      <td>8</td>\n",
       "      <td>$4.35</td>\n",
       "      <td>$34.80</td>\n",
       "    </tr>\n",
       "  </tbody>\n",
       "</table>\n",
       "</div>"
      ],
      "text/plain": [
       "                                                     Purchase Count  \\\n",
       "Item ID Item Name                                                     \n",
       "178     Oathbreaker, Last Hope of the Breaking Storm             12   \n",
       "82      Nirvana                                                   9   \n",
       "145     Fiery Glass Crusader                                      9   \n",
       "92      Final Critic                                              8   \n",
       "103     Singed Scalpel                                            8   \n",
       "\n",
       "                                                     Item Price  \\\n",
       "Item ID Item Name                                                 \n",
       "178     Oathbreaker, Last Hope of the Breaking Storm      $4.23   \n",
       "82      Nirvana                                           $4.90   \n",
       "145     Fiery Glass Crusader                              $4.58   \n",
       "92      Final Critic                                      $4.88   \n",
       "103     Singed Scalpel                                    $4.35   \n",
       "\n",
       "                                                     Total Purchase Value  \n",
       "Item ID Item Name                                                          \n",
       "178     Oathbreaker, Last Hope of the Breaking Storm               $50.76  \n",
       "82      Nirvana                                                    $44.10  \n",
       "145     Fiery Glass Crusader                                       $41.22  \n",
       "92      Final Critic                                               $39.04  \n",
       "103     Singed Scalpel                                             $34.80  "
      ]
     },
     "execution_count": 10,
     "metadata": {},
     "output_type": "execute_result"
    }
   ],
   "source": []
  },
  {
   "cell_type": "code",
   "execution_count": null,
   "metadata": {},
   "outputs": [],
   "source": []
  }
 ],
 "metadata": {
  "anaconda-cloud": {},
  "kernel_info": {
   "name": "python3"
  },
  "kernelspec": {
   "display_name": "Python 3",
   "language": "python",
   "name": "python3"
  },
  "language_info": {
   "codemirror_mode": {
    "name": "ipython",
    "version": 3
   },
   "file_extension": ".py",
   "mimetype": "text/x-python",
   "name": "python",
   "nbconvert_exporter": "python",
   "pygments_lexer": "ipython3",
   "version": "3.6.4"
  },
  "nteract": {
   "version": "0.8.4"
  }
 },
 "nbformat": 4,
 "nbformat_minor": 1
}
