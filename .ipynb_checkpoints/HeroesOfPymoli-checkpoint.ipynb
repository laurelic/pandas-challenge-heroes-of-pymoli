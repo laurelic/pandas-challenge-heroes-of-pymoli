{
 "cells": [
  {
   "cell_type": "markdown",
   "metadata": {},
   "source": [
    "### Heroes Of Pymoli Data Analysis"
   ]
  },
  {
   "cell_type": "markdown",
   "metadata": {},
   "source": [
    "Top Line Stats\n",
    "* Among 576 customers, we have sold 780 items worth $2.4k based on an offering of 183 products. (refer to 'Purchasing Analysis - Total')\n",
    "* AUR (average unit retail) hovering at $3.05\n",
    "\n",
    "Gender Demographics\n",
    "* We are seeing a distinct gender trend, with male-identifying customers making up 84.03% of the customer base.\n",
    "* Though the customer base is predominantly male-idenftifying, we are seeing more price-resistance from this demographic. They are spending 9% less than non-disclosed customers and 5.6% less than female-identifying customers. They are also spending less than our current AUR of $3.05. Viewed in the light of these trend, there is an argument to be made for working toward growing the non-male customer base.\n",
    "* These data indicate that each gender is equally likely to make purchases, as their contribution of purchases aligns closely with their portion of the customer pool. It will be interesting to see if we see more distortion as business grows:\n",
    "    *Female customers: 14.06% of players, 14.5% of purchases\n",
    "    *Male customers: 84.03% of players, 83.5% of purchases\n",
    "    *Other/Non-Disclosed customers: 1.91% of players, 1.92% of purchases\n",
    "    \n",
    "Age Demographics\n",
    "* The customer base is concentrated primarily between ages 20-24.\n",
    "* Because the 20-24 demographic makes up such a large portion of the customer base, their purchases essentially define the AUR ($3.05). The ages demonstrating greater purchasing power are those <10 years-old (average purchase $3.35), and ages 30-34 (average purchase $3.60).\n",
    "* Viewed through a % to total lens, the 20-24 age group is demonstrating a greater inclination to purchase. Their % of purchases versus total sales exceed the % of the customer base they make up: 46.8% of sales $ / 44.8% of customer base\n",
    "* Based on these trends, it seems advisable to concentrate marketing to the 20-24 demographic. Not only are they the greatest contributor to total business and largest demographic, they are trending to be the most inclined to purchase. As such, they have the greatest impact on AUR.\n",
    "\n",
    "Top Spenders\n",
    "* When viewing the customers who have spent the most in total, we see that they are not price resistant, as each of these customers purchase above AUR on average.\n",
    "\n",
    "Best Selling Items\n",
    "* Our top selling item (both in # of units sold and $ volume) is the 'Oathbreaker, Last Hope of the Breaking Storm.' With 12 units sold and a price point of $4.23, this item is key to keeping AUR and volume high.\n",
    "* The #5 selling item, 'Pursuit, Cudgel of Necromancy', has a low price point of $1.02. All of the items ranking above it are above AUR. Considering its competitive price point, it is suprising to not see it rank higher. Will look forward to seeing how this trend plays out."
   ]
  },
  {
   "cell_type": "code",
   "execution_count": 75,
   "metadata": {},
   "outputs": [
    {
     "data": {
      "text/html": [
       "<div>\n",
       "<style scoped>\n",
       "    .dataframe tbody tr th:only-of-type {\n",
       "        vertical-align: middle;\n",
       "    }\n",
       "\n",
       "    .dataframe tbody tr th {\n",
       "        vertical-align: top;\n",
       "    }\n",
       "\n",
       "    .dataframe thead th {\n",
       "        text-align: right;\n",
       "    }\n",
       "</style>\n",
       "<table border=\"1\" class=\"dataframe\">\n",
       "  <thead>\n",
       "    <tr style=\"text-align: right;\">\n",
       "      <th></th>\n",
       "      <th>Purchase ID</th>\n",
       "      <th>SN</th>\n",
       "      <th>Age</th>\n",
       "      <th>Gender</th>\n",
       "      <th>Item ID</th>\n",
       "      <th>Item Name</th>\n",
       "      <th>Price</th>\n",
       "    </tr>\n",
       "  </thead>\n",
       "  <tbody>\n",
       "    <tr>\n",
       "      <th>0</th>\n",
       "      <td>0</td>\n",
       "      <td>Lisim78</td>\n",
       "      <td>20</td>\n",
       "      <td>Male</td>\n",
       "      <td>108</td>\n",
       "      <td>Extraction, Quickblade Of Trembling Hands</td>\n",
       "      <td>3.53</td>\n",
       "    </tr>\n",
       "    <tr>\n",
       "      <th>1</th>\n",
       "      <td>1</td>\n",
       "      <td>Lisovynya38</td>\n",
       "      <td>40</td>\n",
       "      <td>Male</td>\n",
       "      <td>143</td>\n",
       "      <td>Frenzied Scimitar</td>\n",
       "      <td>1.56</td>\n",
       "    </tr>\n",
       "    <tr>\n",
       "      <th>2</th>\n",
       "      <td>2</td>\n",
       "      <td>Ithergue48</td>\n",
       "      <td>24</td>\n",
       "      <td>Male</td>\n",
       "      <td>92</td>\n",
       "      <td>Final Critic</td>\n",
       "      <td>4.88</td>\n",
       "    </tr>\n",
       "    <tr>\n",
       "      <th>3</th>\n",
       "      <td>3</td>\n",
       "      <td>Chamassasya86</td>\n",
       "      <td>24</td>\n",
       "      <td>Male</td>\n",
       "      <td>100</td>\n",
       "      <td>Blindscythe</td>\n",
       "      <td>3.27</td>\n",
       "    </tr>\n",
       "    <tr>\n",
       "      <th>4</th>\n",
       "      <td>4</td>\n",
       "      <td>Iskosia90</td>\n",
       "      <td>23</td>\n",
       "      <td>Male</td>\n",
       "      <td>131</td>\n",
       "      <td>Fury</td>\n",
       "      <td>1.44</td>\n",
       "    </tr>\n",
       "  </tbody>\n",
       "</table>\n",
       "</div>"
      ],
      "text/plain": [
       "   Purchase ID             SN  Age Gender  Item ID  \\\n",
       "0            0        Lisim78   20   Male      108   \n",
       "1            1    Lisovynya38   40   Male      143   \n",
       "2            2     Ithergue48   24   Male       92   \n",
       "3            3  Chamassasya86   24   Male      100   \n",
       "4            4      Iskosia90   23   Male      131   \n",
       "\n",
       "                                   Item Name  Price  \n",
       "0  Extraction, Quickblade Of Trembling Hands   3.53  \n",
       "1                          Frenzied Scimitar   1.56  \n",
       "2                               Final Critic   4.88  \n",
       "3                                Blindscythe   3.27  \n",
       "4                                       Fury   1.44  "
      ]
     },
     "execution_count": 75,
     "metadata": {},
     "output_type": "execute_result"
    }
   ],
   "source": [
    "# Dependencies and Setup\n",
    "import pandas as pd\n",
    "import numpy as np\n",
    "\n",
    "# Raw data file\n",
    "file_to_load = \"Resources/purchase_data.csv\"\n",
    "\n",
    "# Read purchasing file and store into pandas data frame\n",
    "purchase_data = pd.read_csv(file_to_load)\n",
    "purchase_data.head()"
   ]
  },
  {
   "cell_type": "markdown",
   "metadata": {},
   "source": [
    "## Player Count"
   ]
  },
  {
   "cell_type": "code",
   "execution_count": 76,
   "metadata": {},
   "outputs": [
    {
     "data": {
      "text/html": [
       "<div>\n",
       "<style scoped>\n",
       "    .dataframe tbody tr th:only-of-type {\n",
       "        vertical-align: middle;\n",
       "    }\n",
       "\n",
       "    .dataframe tbody tr th {\n",
       "        vertical-align: top;\n",
       "    }\n",
       "\n",
       "    .dataframe thead th {\n",
       "        text-align: right;\n",
       "    }\n",
       "</style>\n",
       "<table border=\"1\" class=\"dataframe\">\n",
       "  <thead>\n",
       "    <tr style=\"text-align: right;\">\n",
       "      <th></th>\n",
       "      <th>Total Players</th>\n",
       "    </tr>\n",
       "  </thead>\n",
       "  <tbody>\n",
       "    <tr>\n",
       "      <th>0</th>\n",
       "      <td>576</td>\n",
       "    </tr>\n",
       "  </tbody>\n",
       "</table>\n",
       "</div>"
      ],
      "text/plain": [
       "   Total Players\n",
       "0            576"
      ]
     },
     "execution_count": 76,
     "metadata": {},
     "output_type": "execute_result"
    }
   ],
   "source": [
    "#count unique SNs to assess the number of active players\n",
    "user_count = purchase_data['SN'].nunique()\n",
    "players_count = pd.DataFrame({'Total Players': user_count}, index=[0])\n",
    "players_count"
   ]
  },
  {
   "cell_type": "markdown",
   "metadata": {},
   "source": [
    "## Purchasing Analysis (Total)"
   ]
  },
  {
   "cell_type": "code",
   "execution_count": 77,
   "metadata": {
    "scrolled": true
   },
   "outputs": [
    {
     "data": {
      "text/html": [
       "<style  type=\"text/css\" >\n",
       "</style>  \n",
       "<table id=\"T_fd368042_8484_11e8_9f3e_34f39af3d017\" > \n",
       "<thead>    <tr> \n",
       "        <th class=\"blank level0\" ></th> \n",
       "        <th class=\"col_heading level0 col0\" >Number of Unique Items</th> \n",
       "        <th class=\"col_heading level0 col1\" >Average Purchase Price</th> \n",
       "        <th class=\"col_heading level0 col2\" >Total Number of Purchases</th> \n",
       "        <th class=\"col_heading level0 col3\" >Total Revenue</th> \n",
       "    </tr></thead> \n",
       "<tbody>    <tr> \n",
       "        <th id=\"T_fd368042_8484_11e8_9f3e_34f39af3d017level0_row0\" class=\"row_heading level0 row0\" >0</th> \n",
       "        <td id=\"T_fd368042_8484_11e8_9f3e_34f39af3d017row0_col0\" class=\"data row0 col0\" >183</td> \n",
       "        <td id=\"T_fd368042_8484_11e8_9f3e_34f39af3d017row0_col1\" class=\"data row0 col1\" >$3.05</td> \n",
       "        <td id=\"T_fd368042_8484_11e8_9f3e_34f39af3d017row0_col2\" class=\"data row0 col2\" >780</td> \n",
       "        <td id=\"T_fd368042_8484_11e8_9f3e_34f39af3d017row0_col3\" class=\"data row0 col3\" >$2,379.77</td> \n",
       "    </tr></tbody> \n",
       "</table> "
      ],
      "text/plain": [
       "<pandas.io.formats.style.Styler at 0x14dec2994e0>"
      ]
     },
     "execution_count": 77,
     "metadata": {},
     "output_type": "execute_result"
    }
   ],
   "source": [
    "#summarize top line information by assessing the related columns, store in DataFrame\n",
    "item_offer = purchase_data['Item ID'].nunique()\n",
    "average_price = purchase_data['Price'].mean()\n",
    "purchase_count = purchase_data['Purchase ID'].count()\n",
    "total_purchases = purchase_data['Price'].sum()\n",
    "\n",
    "#generate DataFrame with top line stats\n",
    "purchase_summary = pd.DataFrame({'Number of Unique Items': item_offer, \n",
    "                                 'Average Purchase Price': average_price,\n",
    "                                'Total Number of Purchases': purchase_count, \n",
    "                                 'Total Revenue': total_purchases}, index=[0], columns=['Number of Unique Items', \n",
    "                                                                                        'Average Purchase Price', \n",
    "                                                                                        'Total Number of Purchases', \n",
    "                                                                                        'Total Revenue'])\n",
    "#set formatting\n",
    "purchase_summary = purchase_summary.style.format({'Average Purchase Price': '${:,.2f}', 'Total Revenue': '${:,.2f}'})\n",
    "purchase_summary"
   ]
  },
  {
   "cell_type": "markdown",
   "metadata": {},
   "source": [
    "## Gender Demographics"
   ]
  },
  {
   "cell_type": "code",
   "execution_count": 78,
   "metadata": {},
   "outputs": [
    {
     "data": {
      "text/html": [
       "<style  type=\"text/css\" >\n",
       "</style>  \n",
       "<table id=\"T_fdf61150_8484_11e8_bad0_34f39af3d017\" > \n",
       "<thead>    <tr> \n",
       "        <th class=\"blank level0\" ></th> \n",
       "        <th class=\"col_heading level0 col0\" >Player Count</th> \n",
       "        <th class=\"col_heading level0 col1\" >Percentage of Players</th> \n",
       "    </tr>    <tr> \n",
       "        <th class=\"index_name level0\" >Gender</th> \n",
       "        <th class=\"blank\" ></th> \n",
       "        <th class=\"blank\" ></th> \n",
       "    </tr></thead> \n",
       "<tbody>    <tr> \n",
       "        <th id=\"T_fdf61150_8484_11e8_bad0_34f39af3d017level0_row0\" class=\"row_heading level0 row0\" >Female</th> \n",
       "        <td id=\"T_fdf61150_8484_11e8_bad0_34f39af3d017row0_col0\" class=\"data row0 col0\" >81</td> \n",
       "        <td id=\"T_fdf61150_8484_11e8_bad0_34f39af3d017row0_col1\" class=\"data row0 col1\" >14.06%</td> \n",
       "    </tr>    <tr> \n",
       "        <th id=\"T_fdf61150_8484_11e8_bad0_34f39af3d017level0_row1\" class=\"row_heading level0 row1\" >Male</th> \n",
       "        <td id=\"T_fdf61150_8484_11e8_bad0_34f39af3d017row1_col0\" class=\"data row1 col0\" >484</td> \n",
       "        <td id=\"T_fdf61150_8484_11e8_bad0_34f39af3d017row1_col1\" class=\"data row1 col1\" >84.03%</td> \n",
       "    </tr>    <tr> \n",
       "        <th id=\"T_fdf61150_8484_11e8_bad0_34f39af3d017level0_row2\" class=\"row_heading level0 row2\" >Other / Non-Disclosed</th> \n",
       "        <td id=\"T_fdf61150_8484_11e8_bad0_34f39af3d017row2_col0\" class=\"data row2 col0\" >11</td> \n",
       "        <td id=\"T_fdf61150_8484_11e8_bad0_34f39af3d017row2_col1\" class=\"data row2 col1\" >1.91%</td> \n",
       "    </tr></tbody> \n",
       "</table> "
      ],
      "text/plain": [
       "<pandas.io.formats.style.Styler at 0x14dec28a710>"
      ]
     },
     "execution_count": 78,
     "metadata": {},
     "output_type": "execute_result"
    }
   ],
   "source": [
    "#create DataFrame containing user counts by gender\n",
    "gender_demo = pd.DataFrame(purchase_data.groupby('Gender').SN.nunique())\n",
    "\n",
    "#rename 'SN' column to 'User Count'\n",
    "gender_demo = gender_demo.rename(index=str, columns={'SN': 'Player Count'})\n",
    "\n",
    "#add % to totals in a new columns\n",
    "gender_demo['Percentage of Players'] = gender_demo['Player Count'] / sum(gender_demo['Player Count'])*100\n",
    "\n",
    "#format new column with %\n",
    "gender_demo = gender_demo.style.format({'Percentage of Players': '{:.2f}%'})\n",
    "gender_demo"
   ]
  },
  {
   "cell_type": "markdown",
   "metadata": {},
   "source": [
    "\n",
    "## Purchasing Analysis (Gender)"
   ]
  },
  {
   "cell_type": "code",
   "execution_count": 79,
   "metadata": {},
   "outputs": [
    {
     "name": "stderr",
     "output_type": "stream",
     "text": [
      "C:\\Users\\creatural1\\AppData\\Local\\Continuum\\anaconda3\\lib\\site-packages\\pandas\\core\\groupby.py:4291: FutureWarning: using a dict with renaming is deprecated and will be removed in a future version\n",
      "  return super(DataFrameGroupBy, self).aggregate(arg, *args, **kwargs)\n"
     ]
    },
    {
     "data": {
      "text/html": [
       "<style  type=\"text/css\" >\n",
       "</style>  \n",
       "<table id=\"T_febb8c8c_8484_11e8_a0e6_34f39af3d017\" > \n",
       "<thead>    <tr> \n",
       "        <th class=\"blank level0\" ></th> \n",
       "        <th class=\"col_heading level0 col0\" >Purchase Count</th> \n",
       "        <th class=\"col_heading level0 col1\" >Average Purchase Price</th> \n",
       "        <th class=\"col_heading level0 col2\" >Total Purchase Value</th> \n",
       "        <th class=\"col_heading level0 col3\" >Normalized Totals</th> \n",
       "    </tr>    <tr> \n",
       "        <th class=\"index_name level0\" >Gender</th> \n",
       "        <th class=\"blank\" ></th> \n",
       "        <th class=\"blank\" ></th> \n",
       "        <th class=\"blank\" ></th> \n",
       "        <th class=\"blank\" ></th> \n",
       "    </tr></thead> \n",
       "<tbody>    <tr> \n",
       "        <th id=\"T_febb8c8c_8484_11e8_a0e6_34f39af3d017level0_row0\" class=\"row_heading level0 row0\" >Female</th> \n",
       "        <td id=\"T_febb8c8c_8484_11e8_a0e6_34f39af3d017row0_col0\" class=\"data row0 col0\" >113</td> \n",
       "        <td id=\"T_febb8c8c_8484_11e8_a0e6_34f39af3d017row0_col1\" class=\"data row0 col1\" >$3.20</td> \n",
       "        <td id=\"T_febb8c8c_8484_11e8_a0e6_34f39af3d017row0_col2\" class=\"data row0 col2\" >$361.94</td> \n",
       "        <td id=\"T_febb8c8c_8484_11e8_a0e6_34f39af3d017row0_col3\" class=\"data row0 col3\" >$3.20</td> \n",
       "    </tr>    <tr> \n",
       "        <th id=\"T_febb8c8c_8484_11e8_a0e6_34f39af3d017level0_row1\" class=\"row_heading level0 row1\" >Male</th> \n",
       "        <td id=\"T_febb8c8c_8484_11e8_a0e6_34f39af3d017row1_col0\" class=\"data row1 col0\" >652</td> \n",
       "        <td id=\"T_febb8c8c_8484_11e8_a0e6_34f39af3d017row1_col1\" class=\"data row1 col1\" >$3.02</td> \n",
       "        <td id=\"T_febb8c8c_8484_11e8_a0e6_34f39af3d017row1_col2\" class=\"data row1 col2\" >$1967.64</td> \n",
       "        <td id=\"T_febb8c8c_8484_11e8_a0e6_34f39af3d017row1_col3\" class=\"data row1 col3\" >$3.02</td> \n",
       "    </tr>    <tr> \n",
       "        <th id=\"T_febb8c8c_8484_11e8_a0e6_34f39af3d017level0_row2\" class=\"row_heading level0 row2\" >Other / Non-Disclosed</th> \n",
       "        <td id=\"T_febb8c8c_8484_11e8_a0e6_34f39af3d017row2_col0\" class=\"data row2 col0\" >15</td> \n",
       "        <td id=\"T_febb8c8c_8484_11e8_a0e6_34f39af3d017row2_col1\" class=\"data row2 col1\" >$3.35</td> \n",
       "        <td id=\"T_febb8c8c_8484_11e8_a0e6_34f39af3d017row2_col2\" class=\"data row2 col2\" >$50.19</td> \n",
       "        <td id=\"T_febb8c8c_8484_11e8_a0e6_34f39af3d017row2_col3\" class=\"data row2 col3\" >$3.35</td> \n",
       "    </tr></tbody> \n",
       "</table> "
      ],
      "text/plain": [
       "<pandas.io.formats.style.Styler at 0x14dec26e390>"
      ]
     },
     "execution_count": 79,
     "metadata": {},
     "output_type": "execute_result"
    }
   ],
   "source": [
    "#create DataFrame to store purchase stats by gender using the 'Purchase ID' and 'Price' columns\n",
    "gender_stats = pd.DataFrame(purchase_data.groupby('Gender').agg({'Purchase ID':'count', 'Price': {'Total Purchase Value':'sum', 'Average Purchase Price':'mean'}}))\n",
    "\n",
    "#collapse the multiple indexes to create a cleanly labeled data frame\n",
    "gender_stats.columns = gender_stats.columns.get_level_values(1) \n",
    "\n",
    "#rename the columns to clarify what they are\n",
    "gender_stats = gender_stats.rename(index=str, columns={'count': 'Purchase Count'})\n",
    "\n",
    "#add a column to store the average purchase value\n",
    "gender_stats['Normalized Totals'] = gender_stats['Total Purchase Value']/gender_stats['Purchase Count']\n",
    "\n",
    "#arrange columns accordingly\n",
    "gender_stats = gender_stats[['Purchase Count', 'Average Purchase Price', 'Total Purchase Value', 'Normalized Totals']]\n",
    "\n",
    "#format the 'Total Purchase Value', 'Average Purchase Price', and 'Normalized Totals' columns to display as currency\n",
    "gender_stats = gender_stats.style.format({'Total Purchase Value': '${:.2f}', 'Average Purchase Price': '${:.2f}', 'Normalized Totals':'${:.2f}'})\n",
    "gender_stats"
   ]
  },
  {
   "cell_type": "markdown",
   "metadata": {},
   "source": [
    "## Age Demographics"
   ]
  },
  {
   "cell_type": "code",
   "execution_count": 80,
   "metadata": {},
   "outputs": [
    {
     "data": {
      "text/html": [
       "<style  type=\"text/css\" >\n",
       "</style>  \n",
       "<table id=\"T_ff7592c6_8484_11e8_8ca2_34f39af3d017\" > \n",
       "<thead>    <tr> \n",
       "        <th class=\"blank level0\" ></th> \n",
       "        <th class=\"col_heading level0 col0\" >Player Count</th> \n",
       "        <th class=\"col_heading level0 col1\" >Percentage of Players</th> \n",
       "    </tr>    <tr> \n",
       "        <th class=\"index_name level0\" >Age</th> \n",
       "        <th class=\"blank\" ></th> \n",
       "        <th class=\"blank\" ></th> \n",
       "    </tr></thead> \n",
       "<tbody>    <tr> \n",
       "        <th id=\"T_ff7592c6_8484_11e8_8ca2_34f39af3d017level0_row0\" class=\"row_heading level0 row0\" ><10</th> \n",
       "        <td id=\"T_ff7592c6_8484_11e8_8ca2_34f39af3d017row0_col0\" class=\"data row0 col0\" >17</td> \n",
       "        <td id=\"T_ff7592c6_8484_11e8_8ca2_34f39af3d017row0_col1\" class=\"data row0 col1\" >2.95%</td> \n",
       "    </tr>    <tr> \n",
       "        <th id=\"T_ff7592c6_8484_11e8_8ca2_34f39af3d017level0_row1\" class=\"row_heading level0 row1\" >10-14</th> \n",
       "        <td id=\"T_ff7592c6_8484_11e8_8ca2_34f39af3d017row1_col0\" class=\"data row1 col0\" >22</td> \n",
       "        <td id=\"T_ff7592c6_8484_11e8_8ca2_34f39af3d017row1_col1\" class=\"data row1 col1\" >3.82%</td> \n",
       "    </tr>    <tr> \n",
       "        <th id=\"T_ff7592c6_8484_11e8_8ca2_34f39af3d017level0_row2\" class=\"row_heading level0 row2\" >15-19</th> \n",
       "        <td id=\"T_ff7592c6_8484_11e8_8ca2_34f39af3d017row2_col0\" class=\"data row2 col0\" >107</td> \n",
       "        <td id=\"T_ff7592c6_8484_11e8_8ca2_34f39af3d017row2_col1\" class=\"data row2 col1\" >18.58%</td> \n",
       "    </tr>    <tr> \n",
       "        <th id=\"T_ff7592c6_8484_11e8_8ca2_34f39af3d017level0_row3\" class=\"row_heading level0 row3\" >20-24</th> \n",
       "        <td id=\"T_ff7592c6_8484_11e8_8ca2_34f39af3d017row3_col0\" class=\"data row3 col0\" >258</td> \n",
       "        <td id=\"T_ff7592c6_8484_11e8_8ca2_34f39af3d017row3_col1\" class=\"data row3 col1\" >44.79%</td> \n",
       "    </tr>    <tr> \n",
       "        <th id=\"T_ff7592c6_8484_11e8_8ca2_34f39af3d017level0_row4\" class=\"row_heading level0 row4\" >25-29</th> \n",
       "        <td id=\"T_ff7592c6_8484_11e8_8ca2_34f39af3d017row4_col0\" class=\"data row4 col0\" >77</td> \n",
       "        <td id=\"T_ff7592c6_8484_11e8_8ca2_34f39af3d017row4_col1\" class=\"data row4 col1\" >13.37%</td> \n",
       "    </tr>    <tr> \n",
       "        <th id=\"T_ff7592c6_8484_11e8_8ca2_34f39af3d017level0_row5\" class=\"row_heading level0 row5\" >30-34</th> \n",
       "        <td id=\"T_ff7592c6_8484_11e8_8ca2_34f39af3d017row5_col0\" class=\"data row5 col0\" >52</td> \n",
       "        <td id=\"T_ff7592c6_8484_11e8_8ca2_34f39af3d017row5_col1\" class=\"data row5 col1\" >9.03%</td> \n",
       "    </tr>    <tr> \n",
       "        <th id=\"T_ff7592c6_8484_11e8_8ca2_34f39af3d017level0_row6\" class=\"row_heading level0 row6\" >35-39</th> \n",
       "        <td id=\"T_ff7592c6_8484_11e8_8ca2_34f39af3d017row6_col0\" class=\"data row6 col0\" >31</td> \n",
       "        <td id=\"T_ff7592c6_8484_11e8_8ca2_34f39af3d017row6_col1\" class=\"data row6 col1\" >5.38%</td> \n",
       "    </tr>    <tr> \n",
       "        <th id=\"T_ff7592c6_8484_11e8_8ca2_34f39af3d017level0_row7\" class=\"row_heading level0 row7\" >40+</th> \n",
       "        <td id=\"T_ff7592c6_8484_11e8_8ca2_34f39af3d017row7_col0\" class=\"data row7 col0\" >12</td> \n",
       "        <td id=\"T_ff7592c6_8484_11e8_8ca2_34f39af3d017row7_col1\" class=\"data row7 col1\" >2.08%</td> \n",
       "    </tr></tbody> \n",
       "</table> "
      ],
      "text/plain": [
       "<pandas.io.formats.style.Styler at 0x14dec299438>"
      ]
     },
     "execution_count": 80,
     "metadata": {},
     "output_type": "execute_result"
    }
   ],
   "source": [
    "# Establish bins for ages\n",
    "age_bins = [0, 9.90, 14.90, 19.90, 24.90, 29.90, 34.90, 39.90, 99999]\n",
    "group_names = [\"<10\", \"10-14\", \"15-19\", \"20-24\", \"25-29\", \"30-34\", \"35-39\", \"40+\"]\n",
    "\n",
    "#categorize the players according to the age bin\n",
    "purchase_data['Age'] = pd.cut(purchase_data['Age'], age_bins, labels=group_names)\n",
    "\n",
    "#create a DataFrame to store grouped by top-line stats based on age\n",
    "age_demo = pd.DataFrame(purchase_data.groupby('Age').SN.nunique())\n",
    "\n",
    "#rename 'SN' column to 'User Count'\n",
    "age_demo = age_demo.rename(index=str, columns={'SN': 'Player Count'})\n",
    "\n",
    "#add % to totals in a new columns\n",
    "age_demo['Percentage of Players'] = age_demo['Player Count'] / sum(age_demo['Player Count'])*100\n",
    "\n",
    "#format new column with %\n",
    "age_demo = age_demo.style.format({'Percentage of Players': '{:.2f}%'})\n",
    "age_demo"
   ]
  },
  {
   "cell_type": "markdown",
   "metadata": {},
   "source": [
    "## Purchasing Analysis (Age)"
   ]
  },
  {
   "cell_type": "code",
   "execution_count": 81,
   "metadata": {},
   "outputs": [
    {
     "name": "stderr",
     "output_type": "stream",
     "text": [
      "C:\\Users\\creatural1\\AppData\\Local\\Continuum\\anaconda3\\lib\\site-packages\\pandas\\core\\groupby.py:4291: FutureWarning: using a dict with renaming is deprecated and will be removed in a future version\n",
      "  return super(DataFrameGroupBy, self).aggregate(arg, *args, **kwargs)\n"
     ]
    },
    {
     "data": {
      "text/html": [
       "<style  type=\"text/css\" >\n",
       "</style>  \n",
       "<table id=\"T_00307bf0_8485_11e8_bdd2_34f39af3d017\" > \n",
       "<thead>    <tr> \n",
       "        <th class=\"blank level0\" ></th> \n",
       "        <th class=\"col_heading level0 col0\" >Purchase Count</th> \n",
       "        <th class=\"col_heading level0 col1\" >Average Purchase Price</th> \n",
       "        <th class=\"col_heading level0 col2\" >Total Purchase Value</th> \n",
       "        <th class=\"col_heading level0 col3\" >Normalized Totals</th> \n",
       "    </tr>    <tr> \n",
       "        <th class=\"index_name level0\" >Age</th> \n",
       "        <th class=\"blank\" ></th> \n",
       "        <th class=\"blank\" ></th> \n",
       "        <th class=\"blank\" ></th> \n",
       "        <th class=\"blank\" ></th> \n",
       "    </tr></thead> \n",
       "<tbody>    <tr> \n",
       "        <th id=\"T_00307bf0_8485_11e8_bdd2_34f39af3d017level0_row0\" class=\"row_heading level0 row0\" ><10</th> \n",
       "        <td id=\"T_00307bf0_8485_11e8_bdd2_34f39af3d017row0_col0\" class=\"data row0 col0\" >23</td> \n",
       "        <td id=\"T_00307bf0_8485_11e8_bdd2_34f39af3d017row0_col1\" class=\"data row0 col1\" >$3.35</td> \n",
       "        <td id=\"T_00307bf0_8485_11e8_bdd2_34f39af3d017row0_col2\" class=\"data row0 col2\" >$77.13</td> \n",
       "        <td id=\"T_00307bf0_8485_11e8_bdd2_34f39af3d017row0_col3\" class=\"data row0 col3\" >$3.35</td> \n",
       "    </tr>    <tr> \n",
       "        <th id=\"T_00307bf0_8485_11e8_bdd2_34f39af3d017level0_row1\" class=\"row_heading level0 row1\" >10-14</th> \n",
       "        <td id=\"T_00307bf0_8485_11e8_bdd2_34f39af3d017row1_col0\" class=\"data row1 col0\" >28</td> \n",
       "        <td id=\"T_00307bf0_8485_11e8_bdd2_34f39af3d017row1_col1\" class=\"data row1 col1\" >$2.96</td> \n",
       "        <td id=\"T_00307bf0_8485_11e8_bdd2_34f39af3d017row1_col2\" class=\"data row1 col2\" >$82.78</td> \n",
       "        <td id=\"T_00307bf0_8485_11e8_bdd2_34f39af3d017row1_col3\" class=\"data row1 col3\" >$2.96</td> \n",
       "    </tr>    <tr> \n",
       "        <th id=\"T_00307bf0_8485_11e8_bdd2_34f39af3d017level0_row2\" class=\"row_heading level0 row2\" >15-19</th> \n",
       "        <td id=\"T_00307bf0_8485_11e8_bdd2_34f39af3d017row2_col0\" class=\"data row2 col0\" >136</td> \n",
       "        <td id=\"T_00307bf0_8485_11e8_bdd2_34f39af3d017row2_col1\" class=\"data row2 col1\" >$3.04</td> \n",
       "        <td id=\"T_00307bf0_8485_11e8_bdd2_34f39af3d017row2_col2\" class=\"data row2 col2\" >$412.89</td> \n",
       "        <td id=\"T_00307bf0_8485_11e8_bdd2_34f39af3d017row2_col3\" class=\"data row2 col3\" >$3.04</td> \n",
       "    </tr>    <tr> \n",
       "        <th id=\"T_00307bf0_8485_11e8_bdd2_34f39af3d017level0_row3\" class=\"row_heading level0 row3\" >20-24</th> \n",
       "        <td id=\"T_00307bf0_8485_11e8_bdd2_34f39af3d017row3_col0\" class=\"data row3 col0\" >365</td> \n",
       "        <td id=\"T_00307bf0_8485_11e8_bdd2_34f39af3d017row3_col1\" class=\"data row3 col1\" >$3.05</td> \n",
       "        <td id=\"T_00307bf0_8485_11e8_bdd2_34f39af3d017row3_col2\" class=\"data row3 col2\" >$1114.06</td> \n",
       "        <td id=\"T_00307bf0_8485_11e8_bdd2_34f39af3d017row3_col3\" class=\"data row3 col3\" >$3.05</td> \n",
       "    </tr>    <tr> \n",
       "        <th id=\"T_00307bf0_8485_11e8_bdd2_34f39af3d017level0_row4\" class=\"row_heading level0 row4\" >25-29</th> \n",
       "        <td id=\"T_00307bf0_8485_11e8_bdd2_34f39af3d017row4_col0\" class=\"data row4 col0\" >101</td> \n",
       "        <td id=\"T_00307bf0_8485_11e8_bdd2_34f39af3d017row4_col1\" class=\"data row4 col1\" >$2.90</td> \n",
       "        <td id=\"T_00307bf0_8485_11e8_bdd2_34f39af3d017row4_col2\" class=\"data row4 col2\" >$293.00</td> \n",
       "        <td id=\"T_00307bf0_8485_11e8_bdd2_34f39af3d017row4_col3\" class=\"data row4 col3\" >$2.90</td> \n",
       "    </tr>    <tr> \n",
       "        <th id=\"T_00307bf0_8485_11e8_bdd2_34f39af3d017level0_row5\" class=\"row_heading level0 row5\" >30-34</th> \n",
       "        <td id=\"T_00307bf0_8485_11e8_bdd2_34f39af3d017row5_col0\" class=\"data row5 col0\" >73</td> \n",
       "        <td id=\"T_00307bf0_8485_11e8_bdd2_34f39af3d017row5_col1\" class=\"data row5 col1\" >$2.93</td> \n",
       "        <td id=\"T_00307bf0_8485_11e8_bdd2_34f39af3d017row5_col2\" class=\"data row5 col2\" >$214.00</td> \n",
       "        <td id=\"T_00307bf0_8485_11e8_bdd2_34f39af3d017row5_col3\" class=\"data row5 col3\" >$2.93</td> \n",
       "    </tr>    <tr> \n",
       "        <th id=\"T_00307bf0_8485_11e8_bdd2_34f39af3d017level0_row6\" class=\"row_heading level0 row6\" >35-39</th> \n",
       "        <td id=\"T_00307bf0_8485_11e8_bdd2_34f39af3d017row6_col0\" class=\"data row6 col0\" >41</td> \n",
       "        <td id=\"T_00307bf0_8485_11e8_bdd2_34f39af3d017row6_col1\" class=\"data row6 col1\" >$3.60</td> \n",
       "        <td id=\"T_00307bf0_8485_11e8_bdd2_34f39af3d017row6_col2\" class=\"data row6 col2\" >$147.67</td> \n",
       "        <td id=\"T_00307bf0_8485_11e8_bdd2_34f39af3d017row6_col3\" class=\"data row6 col3\" >$3.60</td> \n",
       "    </tr>    <tr> \n",
       "        <th id=\"T_00307bf0_8485_11e8_bdd2_34f39af3d017level0_row7\" class=\"row_heading level0 row7\" >40+</th> \n",
       "        <td id=\"T_00307bf0_8485_11e8_bdd2_34f39af3d017row7_col0\" class=\"data row7 col0\" >13</td> \n",
       "        <td id=\"T_00307bf0_8485_11e8_bdd2_34f39af3d017row7_col1\" class=\"data row7 col1\" >$2.94</td> \n",
       "        <td id=\"T_00307bf0_8485_11e8_bdd2_34f39af3d017row7_col2\" class=\"data row7 col2\" >$38.24</td> \n",
       "        <td id=\"T_00307bf0_8485_11e8_bdd2_34f39af3d017row7_col3\" class=\"data row7 col3\" >$2.94</td> \n",
       "    </tr></tbody> \n",
       "</table> "
      ],
      "text/plain": [
       "<pandas.io.formats.style.Styler at 0x14dec2997b8>"
      ]
     },
     "execution_count": 81,
     "metadata": {},
     "output_type": "execute_result"
    }
   ],
   "source": [
    "#create DataFrame to store purchase stats by age using the 'Purchase ID' and 'Price' columns\n",
    "age_stats = pd.DataFrame(purchase_data.groupby('Age').agg({'Purchase ID':'count', 'Price': {'Total Purchase Value':'sum', 'Average Purchase Price':'mean'}}))\n",
    "\n",
    "#collapse the multiple indexes to create a cleanly labeled data frame\n",
    "age_stats.columns = age_stats.columns.get_level_values(1) \n",
    "\n",
    "#rename the columns to clarify what they are\n",
    "age_stats = age_stats.rename(index=str, columns={'count': 'Purchase Count'})\n",
    "\n",
    "#add a column to store the average purchase value\n",
    "age_stats['Normalized Totals'] = age_stats['Total Purchase Value']/age_stats['Purchase Count']\n",
    "\n",
    "#arrange columns accordingly\n",
    "age_stats = age_stats[['Purchase Count', 'Average Purchase Price', 'Total Purchase Value', 'Normalized Totals']]\n",
    "\n",
    "#format the 'Total Purchase Value', 'Average Purchase Price', and 'Normalized Totals' columns to display as currency\n",
    "age_stats = age_stats.style.format({'Total Purchase Value': '${:.2f}', 'Average Purchase Price': '${:.2f}', 'Normalized Totals':'${:.2f}'})\n",
    "age_stats"
   ]
  },
  {
   "cell_type": "markdown",
   "metadata": {},
   "source": [
    "## Top Spenders"
   ]
  },
  {
   "cell_type": "code",
   "execution_count": 82,
   "metadata": {},
   "outputs": [
    {
     "name": "stderr",
     "output_type": "stream",
     "text": [
      "C:\\Users\\creatural1\\AppData\\Local\\Continuum\\anaconda3\\lib\\site-packages\\pandas\\core\\groupby.py:4291: FutureWarning: using a dict with renaming is deprecated and will be removed in a future version\n",
      "  return super(DataFrameGroupBy, self).aggregate(arg, *args, **kwargs)\n"
     ]
    },
    {
     "data": {
      "text/html": [
       "<style  type=\"text/css\" >\n",
       "</style>  \n",
       "<table id=\"T_00fbc2d2_8485_11e8_877e_34f39af3d017\" > \n",
       "<thead>    <tr> \n",
       "        <th class=\"blank level0\" ></th> \n",
       "        <th class=\"col_heading level0 col0\" >Purchase Count</th> \n",
       "        <th class=\"col_heading level0 col1\" >Total Purchase Value</th> \n",
       "        <th class=\"col_heading level0 col2\" >Average Purchase Price</th> \n",
       "    </tr>    <tr> \n",
       "        <th class=\"index_name level0\" >SN</th> \n",
       "        <th class=\"blank\" ></th> \n",
       "        <th class=\"blank\" ></th> \n",
       "        <th class=\"blank\" ></th> \n",
       "    </tr></thead> \n",
       "<tbody>    <tr> \n",
       "        <th id=\"T_00fbc2d2_8485_11e8_877e_34f39af3d017level0_row0\" class=\"row_heading level0 row0\" >Lisosia93</th> \n",
       "        <td id=\"T_00fbc2d2_8485_11e8_877e_34f39af3d017row0_col0\" class=\"data row0 col0\" >5</td> \n",
       "        <td id=\"T_00fbc2d2_8485_11e8_877e_34f39af3d017row0_col1\" class=\"data row0 col1\" >$18.96</td> \n",
       "        <td id=\"T_00fbc2d2_8485_11e8_877e_34f39af3d017row0_col2\" class=\"data row0 col2\" >$3.79</td> \n",
       "    </tr>    <tr> \n",
       "        <th id=\"T_00fbc2d2_8485_11e8_877e_34f39af3d017level0_row1\" class=\"row_heading level0 row1\" >Idastidru52</th> \n",
       "        <td id=\"T_00fbc2d2_8485_11e8_877e_34f39af3d017row1_col0\" class=\"data row1 col0\" >4</td> \n",
       "        <td id=\"T_00fbc2d2_8485_11e8_877e_34f39af3d017row1_col1\" class=\"data row1 col1\" >$15.45</td> \n",
       "        <td id=\"T_00fbc2d2_8485_11e8_877e_34f39af3d017row1_col2\" class=\"data row1 col2\" >$3.86</td> \n",
       "    </tr>    <tr> \n",
       "        <th id=\"T_00fbc2d2_8485_11e8_877e_34f39af3d017level0_row2\" class=\"row_heading level0 row2\" >Chamjask73</th> \n",
       "        <td id=\"T_00fbc2d2_8485_11e8_877e_34f39af3d017row2_col0\" class=\"data row2 col0\" >3</td> \n",
       "        <td id=\"T_00fbc2d2_8485_11e8_877e_34f39af3d017row2_col1\" class=\"data row2 col1\" >$13.83</td> \n",
       "        <td id=\"T_00fbc2d2_8485_11e8_877e_34f39af3d017row2_col2\" class=\"data row2 col2\" >$4.61</td> \n",
       "    </tr>    <tr> \n",
       "        <th id=\"T_00fbc2d2_8485_11e8_877e_34f39af3d017level0_row3\" class=\"row_heading level0 row3\" >Iral74</th> \n",
       "        <td id=\"T_00fbc2d2_8485_11e8_877e_34f39af3d017row3_col0\" class=\"data row3 col0\" >4</td> \n",
       "        <td id=\"T_00fbc2d2_8485_11e8_877e_34f39af3d017row3_col1\" class=\"data row3 col1\" >$13.62</td> \n",
       "        <td id=\"T_00fbc2d2_8485_11e8_877e_34f39af3d017row3_col2\" class=\"data row3 col2\" >$3.40</td> \n",
       "    </tr>    <tr> \n",
       "        <th id=\"T_00fbc2d2_8485_11e8_877e_34f39af3d017level0_row4\" class=\"row_heading level0 row4\" >Iskadarya95</th> \n",
       "        <td id=\"T_00fbc2d2_8485_11e8_877e_34f39af3d017row4_col0\" class=\"data row4 col0\" >3</td> \n",
       "        <td id=\"T_00fbc2d2_8485_11e8_877e_34f39af3d017row4_col1\" class=\"data row4 col1\" >$13.10</td> \n",
       "        <td id=\"T_00fbc2d2_8485_11e8_877e_34f39af3d017row4_col2\" class=\"data row4 col2\" >$4.37</td> \n",
       "    </tr></tbody> \n",
       "</table> "
      ],
      "text/plain": [
       "<pandas.io.formats.style.Styler at 0x14dec2a0eb8>"
      ]
     },
     "execution_count": 82,
     "metadata": {},
     "output_type": "execute_result"
    }
   ],
   "source": [
    "#identify top 5 spenders by grouping purchases by 'SN'\n",
    "spend_summ = pd.DataFrame(purchase_data.groupby('SN').agg({'Purchase ID':'count', 'Price': {'Total Purchase Value':'sum', 'Average Purchase Price':'mean'}}))\n",
    "\n",
    "#collapse the multiple indexes to create a cleanly labeled data frame\n",
    "spend_summ.columns = spend_summ.columns.get_level_values(1) \n",
    "\n",
    "#rename the columns to clarify what they are\n",
    "spend_summ = spend_summ.rename(index=str, columns={'count': 'Purchase Count'})\n",
    "\n",
    "#sort the 'Total Purchase Value' column in descending order to identify top spenders\n",
    "spend_summ = spend_summ.sort_values(by='Total Purchase Value', ascending=False)\n",
    "\n",
    "#slice the DataFrame so that only the top 5 rows populate\n",
    "spend_summ = spend_summ[0:5]\n",
    "\n",
    "#convert formatting to currency\n",
    "spend_summ = spend_summ.style.format({'Total Purchase Value': '${:.2f}', 'Average Purchase Price': '${:.2f}'})\n",
    "spend_summ"
   ]
  },
  {
   "cell_type": "markdown",
   "metadata": {},
   "source": [
    "## Most Popular Items"
   ]
  },
  {
   "cell_type": "code",
   "execution_count": 86,
   "metadata": {},
   "outputs": [
    {
     "data": {
      "text/html": [
       "<style  type=\"text/css\" >\n",
       "</style>  \n",
       "<table id=\"T_5190b96e_8485_11e8_9991_34f39af3d017\" > \n",
       "<thead>    <tr> \n",
       "        <th class=\"blank\" ></th> \n",
       "        <th class=\"blank level0\" ></th> \n",
       "        <th class=\"col_heading level0 col0\" >Purchase Count</th> \n",
       "        <th class=\"col_heading level0 col1\" >Item Price</th> \n",
       "        <th class=\"col_heading level0 col2\" >Total Purchase Value</th> \n",
       "    </tr>    <tr> \n",
       "        <th class=\"index_name level0\" >Item ID</th> \n",
       "        <th class=\"index_name level1\" >Item Name</th> \n",
       "        <th class=\"blank\" ></th> \n",
       "        <th class=\"blank\" ></th> \n",
       "        <th class=\"blank\" ></th> \n",
       "    </tr></thead> \n",
       "<tbody>    <tr> \n",
       "        <th id=\"T_5190b96e_8485_11e8_9991_34f39af3d017level0_row0\" class=\"row_heading level0 row0\" >178</th> \n",
       "        <th id=\"T_5190b96e_8485_11e8_9991_34f39af3d017level1_row0\" class=\"row_heading level1 row0\" >Oathbreaker, Last Hope of the Breaking Storm</th> \n",
       "        <td id=\"T_5190b96e_8485_11e8_9991_34f39af3d017row0_col0\" class=\"data row0 col0\" >12</td> \n",
       "        <td id=\"T_5190b96e_8485_11e8_9991_34f39af3d017row0_col1\" class=\"data row0 col1\" >$4.23</td> \n",
       "        <td id=\"T_5190b96e_8485_11e8_9991_34f39af3d017row0_col2\" class=\"data row0 col2\" >$50.76</td> \n",
       "    </tr>    <tr> \n",
       "        <th id=\"T_5190b96e_8485_11e8_9991_34f39af3d017level0_row1\" class=\"row_heading level0 row1\" >145</th> \n",
       "        <th id=\"T_5190b96e_8485_11e8_9991_34f39af3d017level1_row1\" class=\"row_heading level1 row1\" >Fiery Glass Crusader</th> \n",
       "        <td id=\"T_5190b96e_8485_11e8_9991_34f39af3d017row1_col0\" class=\"data row1 col0\" >9</td> \n",
       "        <td id=\"T_5190b96e_8485_11e8_9991_34f39af3d017row1_col1\" class=\"data row1 col1\" >$4.58</td> \n",
       "        <td id=\"T_5190b96e_8485_11e8_9991_34f39af3d017row1_col2\" class=\"data row1 col2\" >$41.22</td> \n",
       "    </tr>    <tr> \n",
       "        <th id=\"T_5190b96e_8485_11e8_9991_34f39af3d017level0_row2\" class=\"row_heading level0 row2\" >108</th> \n",
       "        <th id=\"T_5190b96e_8485_11e8_9991_34f39af3d017level1_row2\" class=\"row_heading level1 row2\" >Extraction, Quickblade Of Trembling Hands</th> \n",
       "        <td id=\"T_5190b96e_8485_11e8_9991_34f39af3d017row2_col0\" class=\"data row2 col0\" >9</td> \n",
       "        <td id=\"T_5190b96e_8485_11e8_9991_34f39af3d017row2_col1\" class=\"data row2 col1\" >$3.53</td> \n",
       "        <td id=\"T_5190b96e_8485_11e8_9991_34f39af3d017row2_col2\" class=\"data row2 col2\" >$31.77</td> \n",
       "    </tr>    <tr> \n",
       "        <th id=\"T_5190b96e_8485_11e8_9991_34f39af3d017level0_row3\" class=\"row_heading level0 row3\" >82</th> \n",
       "        <th id=\"T_5190b96e_8485_11e8_9991_34f39af3d017level1_row3\" class=\"row_heading level1 row3\" >Nirvana</th> \n",
       "        <td id=\"T_5190b96e_8485_11e8_9991_34f39af3d017row3_col0\" class=\"data row3 col0\" >9</td> \n",
       "        <td id=\"T_5190b96e_8485_11e8_9991_34f39af3d017row3_col1\" class=\"data row3 col1\" >$4.90</td> \n",
       "        <td id=\"T_5190b96e_8485_11e8_9991_34f39af3d017row3_col2\" class=\"data row3 col2\" >$44.10</td> \n",
       "    </tr>    <tr> \n",
       "        <th id=\"T_5190b96e_8485_11e8_9991_34f39af3d017level0_row4\" class=\"row_heading level0 row4\" >19</th> \n",
       "        <th id=\"T_5190b96e_8485_11e8_9991_34f39af3d017level1_row4\" class=\"row_heading level1 row4\" >Pursuit, Cudgel of Necromancy</th> \n",
       "        <td id=\"T_5190b96e_8485_11e8_9991_34f39af3d017row4_col0\" class=\"data row4 col0\" >8</td> \n",
       "        <td id=\"T_5190b96e_8485_11e8_9991_34f39af3d017row4_col1\" class=\"data row4 col1\" >$1.02</td> \n",
       "        <td id=\"T_5190b96e_8485_11e8_9991_34f39af3d017row4_col2\" class=\"data row4 col2\" >$8.16</td> \n",
       "    </tr></tbody> \n",
       "</table> "
      ],
      "text/plain": [
       "<pandas.io.formats.style.Styler at 0x14dec27a0f0>"
      ]
     },
     "execution_count": 86,
     "metadata": {},
     "output_type": "execute_result"
    }
   ],
   "source": [
    "#track most popular items by number of purchases by grouping purchase data according to item id and name\n",
    "item_data = purchase_data[['Item ID', 'Item Name', 'Price']]\n",
    "\n",
    "#group the data by item number and name to summarize purchases accordingly\n",
    "top_purchases = pd.DataFrame(item_data.groupby(['Item ID', 'Item Name']).agg({'Price':['count', 'sum']}))\n",
    "\n",
    "#colapse the column headers\n",
    "top_purchases.columns = top_purchases.columns.get_level_values(1)\n",
    "\n",
    "#add a new column that lists the original price\n",
    "top_purchases['Item Price'] = top_purchases['sum']/top_purchases['count']\n",
    "\n",
    "#sort columns\n",
    "top_purchases = top_purchases[['count', 'Item Price', 'sum']]\n",
    "\n",
    "#rename columns to reflect the data they are conveying\n",
    "top_purchases = top_purchases.rename(index=str, columns={'count': 'Purchase Count', 'sum': 'Total Purchase Value'})\n",
    "\n",
    "#sort the DataFrame according to 'Purchase Count' to identify most popular items\n",
    "top_purchases = top_purchases.sort_values(by='Purchase Count', ascending=False)\n",
    "\n",
    "#display top 5 items\n",
    "top_5_purchases = top_purchases[0:5]\n",
    "\n",
    "#convert formatting to currency\n",
    "top_5_purchases = top_5_purchases.style.format({'Total Purchase Value': '${:.2f}', 'Item Price': '${:.2f}'})\n",
    "\n",
    "top_5_purchases"
   ]
  },
  {
   "cell_type": "markdown",
   "metadata": {},
   "source": [
    "## Most Profitable Items"
   ]
  },
  {
   "cell_type": "code",
   "execution_count": 87,
   "metadata": {
    "scrolled": true
   },
   "outputs": [
    {
     "data": {
      "text/html": [
       "<style  type=\"text/css\" >\n",
       "</style>  \n",
       "<table id=\"T_a4eefe2e_8485_11e8_b67c_34f39af3d017\" > \n",
       "<thead>    <tr> \n",
       "        <th class=\"blank\" ></th> \n",
       "        <th class=\"blank level0\" ></th> \n",
       "        <th class=\"col_heading level0 col0\" >Purchase Count</th> \n",
       "        <th class=\"col_heading level0 col1\" >Item Price</th> \n",
       "        <th class=\"col_heading level0 col2\" >Total Purchase Value</th> \n",
       "    </tr>    <tr> \n",
       "        <th class=\"index_name level0\" >Item ID</th> \n",
       "        <th class=\"index_name level1\" >Item Name</th> \n",
       "        <th class=\"blank\" ></th> \n",
       "        <th class=\"blank\" ></th> \n",
       "        <th class=\"blank\" ></th> \n",
       "    </tr></thead> \n",
       "<tbody>    <tr> \n",
       "        <th id=\"T_a4eefe2e_8485_11e8_b67c_34f39af3d017level0_row0\" class=\"row_heading level0 row0\" >178</th> \n",
       "        <th id=\"T_a4eefe2e_8485_11e8_b67c_34f39af3d017level1_row0\" class=\"row_heading level1 row0\" >Oathbreaker, Last Hope of the Breaking Storm</th> \n",
       "        <td id=\"T_a4eefe2e_8485_11e8_b67c_34f39af3d017row0_col0\" class=\"data row0 col0\" >12</td> \n",
       "        <td id=\"T_a4eefe2e_8485_11e8_b67c_34f39af3d017row0_col1\" class=\"data row0 col1\" >$4.23</td> \n",
       "        <td id=\"T_a4eefe2e_8485_11e8_b67c_34f39af3d017row0_col2\" class=\"data row0 col2\" >$50.76</td> \n",
       "    </tr>    <tr> \n",
       "        <th id=\"T_a4eefe2e_8485_11e8_b67c_34f39af3d017level0_row1\" class=\"row_heading level0 row1\" >82</th> \n",
       "        <th id=\"T_a4eefe2e_8485_11e8_b67c_34f39af3d017level1_row1\" class=\"row_heading level1 row1\" >Nirvana</th> \n",
       "        <td id=\"T_a4eefe2e_8485_11e8_b67c_34f39af3d017row1_col0\" class=\"data row1 col0\" >9</td> \n",
       "        <td id=\"T_a4eefe2e_8485_11e8_b67c_34f39af3d017row1_col1\" class=\"data row1 col1\" >$4.90</td> \n",
       "        <td id=\"T_a4eefe2e_8485_11e8_b67c_34f39af3d017row1_col2\" class=\"data row1 col2\" >$44.10</td> \n",
       "    </tr>    <tr> \n",
       "        <th id=\"T_a4eefe2e_8485_11e8_b67c_34f39af3d017level0_row2\" class=\"row_heading level0 row2\" >145</th> \n",
       "        <th id=\"T_a4eefe2e_8485_11e8_b67c_34f39af3d017level1_row2\" class=\"row_heading level1 row2\" >Fiery Glass Crusader</th> \n",
       "        <td id=\"T_a4eefe2e_8485_11e8_b67c_34f39af3d017row2_col0\" class=\"data row2 col0\" >9</td> \n",
       "        <td id=\"T_a4eefe2e_8485_11e8_b67c_34f39af3d017row2_col1\" class=\"data row2 col1\" >$4.58</td> \n",
       "        <td id=\"T_a4eefe2e_8485_11e8_b67c_34f39af3d017row2_col2\" class=\"data row2 col2\" >$41.22</td> \n",
       "    </tr>    <tr> \n",
       "        <th id=\"T_a4eefe2e_8485_11e8_b67c_34f39af3d017level0_row3\" class=\"row_heading level0 row3\" >92</th> \n",
       "        <th id=\"T_a4eefe2e_8485_11e8_b67c_34f39af3d017level1_row3\" class=\"row_heading level1 row3\" >Final Critic</th> \n",
       "        <td id=\"T_a4eefe2e_8485_11e8_b67c_34f39af3d017row3_col0\" class=\"data row3 col0\" >8</td> \n",
       "        <td id=\"T_a4eefe2e_8485_11e8_b67c_34f39af3d017row3_col1\" class=\"data row3 col1\" >$4.88</td> \n",
       "        <td id=\"T_a4eefe2e_8485_11e8_b67c_34f39af3d017row3_col2\" class=\"data row3 col2\" >$39.04</td> \n",
       "    </tr>    <tr> \n",
       "        <th id=\"T_a4eefe2e_8485_11e8_b67c_34f39af3d017level0_row4\" class=\"row_heading level0 row4\" >103</th> \n",
       "        <th id=\"T_a4eefe2e_8485_11e8_b67c_34f39af3d017level1_row4\" class=\"row_heading level1 row4\" >Singed Scalpel</th> \n",
       "        <td id=\"T_a4eefe2e_8485_11e8_b67c_34f39af3d017row4_col0\" class=\"data row4 col0\" >8</td> \n",
       "        <td id=\"T_a4eefe2e_8485_11e8_b67c_34f39af3d017row4_col1\" class=\"data row4 col1\" >$4.35</td> \n",
       "        <td id=\"T_a4eefe2e_8485_11e8_b67c_34f39af3d017row4_col2\" class=\"data row4 col2\" >$34.80</td> \n",
       "    </tr></tbody> \n",
       "</table> "
      ],
      "text/plain": [
       "<pandas.io.formats.style.Styler at 0x14dec2bea90>"
      ]
     },
     "execution_count": 87,
     "metadata": {},
     "output_type": "execute_result"
    }
   ],
   "source": [
    "#use the top purchases data in the previous exercise to identify top volume items\n",
    "top_purchases = top_purchases.sort_values(by='Total Purchase Value', ascending=False)\n",
    "\n",
    "#display top 5 items\n",
    "top_5_volume = top_purchases[0:5]\n",
    "\n",
    "#convert formatting to currency\n",
    "top_5_volume = top_5_volume.style.format({'Total Purchase Value': '${:.2f}', 'Item Price': '${:.2f}'})\n",
    "\n",
    "top_5_volume"
   ]
  }
 ],
 "metadata": {
  "anaconda-cloud": {},
  "kernel_info": {
   "name": "python3"
  },
  "kernelspec": {
   "display_name": "Python 3",
   "language": "python",
   "name": "python3"
  },
  "language_info": {
   "codemirror_mode": {
    "name": "ipython",
    "version": 3
   },
   "file_extension": ".py",
   "mimetype": "text/x-python",
   "name": "python",
   "nbconvert_exporter": "python",
   "pygments_lexer": "ipython3",
   "version": "3.6.4"
  },
  "nteract": {
   "version": "0.8.4"
  }
 },
 "nbformat": 4,
 "nbformat_minor": 1
}
